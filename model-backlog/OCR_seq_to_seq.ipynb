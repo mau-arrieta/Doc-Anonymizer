{
  "cells": [
    {
      "cell_type": "code",
      "execution_count": null,
      "metadata": {
        "id": "MKBNUyP24FuC"
      },
      "outputs": [],
      "source": [
        "# !pip install -U datasets"
      ]
    },
    {
      "cell_type": "code",
      "source": [
        "!pip install Levenshtein"
      ],
      "metadata": {
        "id": "rdfK-cuDAx01"
      },
      "execution_count": null,
      "outputs": []
    },
    {
      "cell_type": "markdown",
      "metadata": {
        "id": "-Kl3eL1eJR_o"
      },
      "source": [
        "# Setup"
      ]
    },
    {
      "cell_type": "markdown",
      "metadata": {
        "id": "UmSXS7zPJmFc"
      },
      "source": [
        "## Imports, Load Sampled MJSynth, Setup Drive and Wandb"
      ]
    },
    {
      "cell_type": "code",
      "execution_count": null,
      "metadata": {
        "colab": {
          "base_uri": "https://localhost:8080/"
        },
        "id": "R7lTE5LQ4HA0",
        "outputId": "58d129a9-76bf-4df3-e8a5-b7e48b275b54"
      },
      "outputs": [
        {
          "name": "stdout",
          "output_type": "stream",
          "text": [
            "Drive already mounted at /content/drive; to attempt to forcibly remount, call drive.mount(\"/content/drive\", force_remount=True).\n"
          ]
        }
      ],
      "source": [
        "import os\n",
        "import random\n",
        "import shutil\n",
        "import pandas as pd\n",
        "import numpy as np\n",
        "import matplotlib.pyplot as plt\n",
        "import tempfile\n",
        "import wandb\n",
        "\n",
        "import torch\n",
        "from torch.utils.data import Dataset\n",
        "from torch.utils.data import DataLoader\n",
        "from torchvision import transforms\n",
        "import torch.nn.functional as F\n",
        "import torch.nn as nn\n",
        "from torch.nn.utils.rnn import pad_sequence\n",
        "from torch.optim.lr_scheduler import CosineAnnealingLR\n",
        "\n",
        "import Levenshtein\n",
        "from Levenshtein import distance as levenshtein_distance\n",
        "\n",
        "from sklearn.metrics import precision_recall_curve, auc\n",
        "from sklearn.metrics import roc_curve, roc_auc_score\n",
        "from tqdm import tqdm\n",
        "from difflib import SequenceMatcher\n",
        "from itertools import groupby\n",
        "from datasets import load_dataset\n",
        "from PIL import Image\n",
        "\n",
        "from google.colab import drive\n",
        "drive.mount('/content/drive')\n",
        "\n",
        "device = torch.device(\"cuda\" if torch.cuda.is_available() else \"cpu\")"
      ]
    },
    {
      "cell_type": "markdown",
      "metadata": {
        "id": "hWj9v1Nt3ZJl"
      },
      "source": [
        "## Configs"
      ]
    },
    {
      "cell_type": "code",
      "execution_count": null,
      "metadata": {
        "id": "RMzNH9RJ3Cok"
      },
      "outputs": [],
      "source": [
        "num_images = 20000\n",
        "model_selected = 1  # 1: Encoder: CNN + Decoder: GRU -> Attention\n",
        "                    # 2: Encoder: CNN + Decoder: Attention -> GRU\n",
        "                    # 3: Encoder: CNN + Decoder: Transformer"
      ]
    },
    {
      "cell_type": "markdown",
      "source": [
        "## Utility Functions"
      ],
      "metadata": {
        "id": "77D0MxwEA7N_"
      }
    },
    {
      "cell_type": "code",
      "source": [
        "# === Transformer Masking ===\n",
        "def generate_square_subsequent_mask(sz, device=None):\n",
        "    \"\"\"\n",
        "    Creates an upper-triangular matrix filled with -inf (masked), used for autoregressive decoding.\n",
        "    Unmasked elements are 0.0.\n",
        "    Used to prevent the decoder from attending to future positions.\n",
        "    \"\"\"\n",
        "    return torch.triu(torch.full((sz, sz), float('-inf'), device=device), diagonal=1)\n",
        "\n",
        "\n",
        "# === Sequence Decoding Utilities ===\n",
        "def decode_sequence(sequence, inv_vocab, eos_token=\"<EOS>\", skip_tokens={\"<SOS>\", \"<PAD>\"}):\n",
        "    \"\"\"\n",
        "    Decodes a single token sequence to string, stopping at <EOS> and skipping control tokens.\n",
        "    \"\"\"\n",
        "    chars = []\n",
        "    for idx in sequence:\n",
        "        token = inv_vocab.get(idx.item() if isinstance(idx, torch.Tensor) else idx, \"\")\n",
        "        if token == eos_token:\n",
        "            break\n",
        "        if token not in skip_tokens:\n",
        "            chars.append(token)\n",
        "    return ''.join(chars)\n",
        "\n",
        "\n",
        "def decode_ground_truth(label_tensor, inv_vocab, sos_token=\"<SOS>\", eos_token=\"<EOS>\", pad_token=\"<PAD>\"):\n",
        "    \"\"\"\n",
        "    Decodes a ground truth label tensor into readable text.\n",
        "    Skips padding and special tokens.\n",
        "    \"\"\"\n",
        "    chars = []\n",
        "    for idx in label_tensor:\n",
        "        char = inv_vocab.get(idx.item(), \"\")\n",
        "        if char in [sos_token, pad_token]:\n",
        "            continue\n",
        "        if char == eos_token:\n",
        "            break\n",
        "        chars.append(char)\n",
        "    return ''.join(chars)\n",
        "\n",
        "\n",
        "def decode_label(tensor_label, char_list):\n",
        "    \"\"\"\n",
        "    Simple decode of a tensor label using index lookup.\n",
        "    Removes special tokens like <PAD>, <SOS>, <EOS>.\n",
        "    \"\"\"\n",
        "    special_tokens = {\"<PAD>\", \"<SOS>\", \"<EOS>\"}\n",
        "    return ''.join(\n",
        "        c for i in tensor_label.tolist()\n",
        "        if (c := char_list[i]) not in special_tokens\n",
        "    )\n",
        "\n",
        "# Utility function: Computes normalized edit distance between two strings as a similarity metric\n",
        "def compute_edit_distance(pred, gt):\n",
        "    return 1 - SequenceMatcher(None, pred, gt).ratio()\n",
        "\n",
        "\n",
        "# Utility function: Calculates character-level accuracy across all predictions\n",
        "def character_accuracy(preds, gts):\n",
        "    \"\"\"\n",
        "    Returns the proportion of correctly predicted characters over all ground truths.\n",
        "    \"\"\"\n",
        "    correct, total = 0, 0\n",
        "    for p, g in zip(preds, gts):\n",
        "        m = min(len(p), len(g))\n",
        "        correct += sum(p[i] == g[i] for i in range(m))\n",
        "        total += len(g)\n",
        "    return correct / total if total else 0\n",
        "\n",
        "\n",
        "# Utility function: Calculates word-level accuracy (exact match) across all predictions\n",
        "def word_accuracy(preds, gts):\n",
        "    \"\"\"\n",
        "    Returns the proportion of completely correct word predictions.\n",
        "    \"\"\"\n",
        "    correct = sum(p == g for p, g in zip(preds, gts))\n",
        "    return correct / len(gts) if gts else 0\n",
        "\n",
        "\n",
        "def visualize_predictions(encoder, decoder, dataset, token2idx, num_samples):\n",
        "    \"\"\"\n",
        "    Visualizes model predictions for a few random samples from the dataset.\n",
        "    Displays GT vs Prediction for each image, plus accuracy metrics.\n",
        "    \"\"\"\n",
        "    if isinstance(token2idx, list):\n",
        "        token2idx = {token: idx for idx, token in enumerate(token2idx)}\n",
        "\n",
        "    inv_vocab = {idx: char for char, idx in token2idx.items()}\n",
        "    sos_token_idx = token2idx.get(\"<SOS>\", 0)\n",
        "    eos_token_idx = token2idx.get(\"<EOS>\", -1)\n",
        "\n",
        "    encoder.eval()\n",
        "    decoder.eval()\n",
        "\n",
        "    dataloader = DataLoader(dataset, batch_size=num_samples, shuffle=True, collate_fn=collate_fn_wrapper(dataset))\n",
        "\n",
        "    images, labels = next(iter(dataloader))\n",
        "    images, labels = images.to(device), labels.to(device)\n",
        "    batch_size = images.size(0)\n",
        "\n",
        "    with torch.no_grad():\n",
        "        encoder_outputs = encoder(images)\n",
        "\n",
        "        is_transformer = model_selected in [3]\n",
        "\n",
        "        # Initialize decoder input with <SOS> token\n",
        "        decoder_input = torch.full(\n",
        "            (batch_size, 1) if is_transformer else (batch_size,),\n",
        "            sos_token_idx,\n",
        "            dtype=torch.long,\n",
        "            device=device\n",
        "        )\n",
        "\n",
        "        decoder_hidden = None\n",
        "        decoded_sequences = [[] for _ in range(batch_size)]\n",
        "        finished = [False] * batch_size\n",
        "        max_length = labels.size(1) + 10  # Safety margin\n",
        "\n",
        "        for _ in range(max_length):\n",
        "            if is_transformer:\n",
        "                tgt_mask = generate_square_subsequent_mask(decoder_input.size(1), device=device)\n",
        "                decoder_output = decoder(decoder_input, encoder_outputs, tgt_mask=tgt_mask)\n",
        "            else:\n",
        "                decoder_output, decoder_hidden, _ = decoder(decoder_input, decoder_hidden, encoder_outputs)\n",
        "\n",
        "            _, topi = decoder_output.topk(1)\n",
        "            predicted_token = topi.view(-1)\n",
        "\n",
        "            for i in range(batch_size):\n",
        "                if not finished[i]:\n",
        "                    token_id = predicted_token[i].item()\n",
        "                    decoded_sequences[i].append(token_id)\n",
        "                    if token_id == eos_token_idx:\n",
        "                        finished[i] = True\n",
        "\n",
        "            if all(finished):\n",
        "                break\n",
        "\n",
        "            decoder_input = predicted_token.detach().unsqueeze(1) if is_transformer else predicted_token.detach()\n",
        "\n",
        "        decoded_texts = [decode_sequence(seq, inv_vocab) for seq in decoded_sequences]\n",
        "        gt_texts = [decode_ground_truth(lbl, inv_vocab) for lbl in labels]\n",
        "\n",
        "    # Plot results\n",
        "    plt.figure(figsize=(15, 5))\n",
        "    for i in range(num_samples):\n",
        "        img_np = images[i].cpu().squeeze().numpy()\n",
        "        plt.subplot(1, num_samples, i + 1)\n",
        "        plt.imshow(img_np, cmap='gray')\n",
        "        plt.title(f\"GT: {gt_texts[i]}\\nPred: {decoded_texts[i]}\")\n",
        "        plt.axis('off')\n",
        "    plt.tight_layout()\n",
        "    plt.show()\n",
        "\n",
        "    # Print metrics\n",
        "    char_acc = character_accuracy(decoded_texts, gt_texts)\n",
        "    word_acc = word_accuracy(decoded_texts, gt_texts)\n",
        "    print(f\"Evaluation on Sample:\")\n",
        "    print(f\"Character-level Accuracy: {char_acc:.4f}\")\n",
        "    print(f\"Word-level Accuracy:      {word_acc:.4f}\")\n",
        "\n",
        "\n",
        "\n",
        "# Utility function: Counts total number of trainable parameters in the model for model size evaluation\n",
        "def count_parameters(model):\n",
        "    return sum(p.numel() for p in model.parameters() if p.requires_grad)\n",
        "\n",
        "\n",
        "# Utility function: Computes Character Error Rate (CER) as total edit distance normalized by total GT characters\n",
        "def character_error_rate(preds, gts):\n",
        "    total_edits, total_chars = 0, 0\n",
        "    for p, g in zip(preds, gts):\n",
        "        total_edits += levenshtein_distance(p, g)\n",
        "        total_chars += len(g)\n",
        "    return total_edits / total_chars if total_chars else 0\n",
        "\n",
        "\n",
        "# Utility function: Computes word-level accuracy allowing up to k character differences (edit distance tolerance)\n",
        "def word_accuracy_at_k(preds, gts, k):\n",
        "    correct = sum(levenshtein_distance(p, g) <= k for p, g in zip(preds, gts))\n",
        "    return correct / len(gts) if gts else 0\n"
      ],
      "metadata": {
        "id": "NUvsels2A-p_"
      },
      "execution_count": null,
      "outputs": []
    },
    {
      "cell_type": "markdown",
      "metadata": {
        "id": "mChlcnGJLeVd"
      },
      "source": [
        "## Load Dataset"
      ]
    },
    {
      "cell_type": "code",
      "execution_count": null,
      "metadata": {
        "id": "UAvTBTSVFuDR"
      },
      "outputs": [],
      "source": [
        "# Load MJSynth dataset (non-streaming)\n",
        "ds = load_dataset(\"priyank-m/MJSynth_text_recognition\", split=\"train\")\n",
        "\n",
        "# Shuffle and select num_images samples\n",
        "sampled = ds.shuffle(seed=42).select(range(num_images))\n",
        "assert len(sampled) == num_images, f\"Sampled {len(sampled)} images, expected {num_images}\"\n",
        "\n",
        "# Define output paths with versioning\n",
        "base_dir = \"/content/drive/MyDrive/mjsynth_sampled\"\n",
        "images_dir = os.path.join(base_dir, \"images\")\n",
        "os.makedirs(images_dir, exist_ok=True)\n",
        "\n",
        "label_txt_path = os.path.join(base_dir, f\"label_{num_images}.txt\")\n",
        "\n",
        "# Save sampled images and label file\n",
        "with open(label_txt_path, \"w\") as f:\n",
        "    for idx, item in enumerate(sampled):\n",
        "        image: Image.Image = item['image']\n",
        "        label = item['label']\n",
        "\n",
        "        filename = f\"img_{idx:05d}.jpg\"\n",
        "        full_img_path = os.path.join(images_dir, filename)\n",
        "        relative_path = os.path.relpath(full_img_path, base_dir)\n",
        "\n",
        "        if not os.path.exists(full_img_path):\n",
        "            image.save(full_img_path)\n",
        "\n",
        "        f.write(f\"{relative_path}\\t{label}\\n\")"
      ]
    },
    {
      "cell_type": "markdown",
      "metadata": {
        "id": "qlXy0v1BJZ7_"
      },
      "source": [
        "# Pre - Processing"
      ]
    },
    {
      "cell_type": "code",
      "execution_count": null,
      "metadata": {
        "id": "2exHiJrkDrMG"
      },
      "outputs": [],
      "source": [
        "class TextRecognitionDataset(Dataset):\n",
        "    \"\"\"\n",
        "    Purpose:\n",
        "        Read image paths and corresponding text labels from a text file (label.txt)\n",
        "        Load and transform the image\n",
        "        Encode the text label into a sequence of integers\n",
        "        Provide the image and encoded label to the model during training or evaluation\n",
        "    \"\"\"\n",
        "    def __init__(self, label_file, transform=None, char_list=None, max_label_len=None):\n",
        "        \"\"\"\n",
        "        Args:\n",
        "            label_file: Path to label.txt (format: img_path \\t label)\n",
        "            transform: torchvision transforms to apply to image\n",
        "            char_list: character vocabulary (sorted list of unique characters)\n",
        "            max_label_len: max length for label padding\n",
        "        \"\"\"\n",
        "        self.samples = pd.read_csv(label_file, sep=\"\\t\", names=[\"img_path\", \"label\"])\n",
        "        self.samples.dropna(inplace=True)  # Drop rows where label is NaN\n",
        "\n",
        "        self.transform = transform\n",
        "        self.label_file = label_file\n",
        "\n",
        "        # Build vocabulary if not provided\n",
        "        if char_list is None:\n",
        "            all_text = \"\".join(self.samples[\"label\"])\n",
        "            base_chars = sorted(set(all_text))\n",
        "        else:\n",
        "            base_chars = char_list\n",
        "\n",
        "        # Ensure special tokens are at the start of the vocabulary\n",
        "        special_tokens = [\"<PAD>\", \"<SOS>\", \"<EOS>\"]\n",
        "        for token in reversed(special_tokens):  # insert reversed to maintain order\n",
        "            if token not in base_chars:\n",
        "                base_chars.insert(0, token)\n",
        "\n",
        "        self.char_list = base_chars\n",
        "\n",
        "        # Set max label length (without special tokens)\n",
        "        self.max_label_len = max_label_len or self.samples[\"label\"].str.len().max()\n",
        "\n",
        "        # Pre-encode labels\n",
        "        self.encoded_labels = self.samples[\"label\"].apply(self.encode_label)\n",
        "\n",
        "    def __len__(self):\n",
        "        return len(self.samples)\n",
        "\n",
        "    def __getitem__(self, idx):\n",
        "        img_path = self.samples.iloc[idx][\"img_path\"]\n",
        "        label = self.encoded_labels.iloc[idx]\n",
        "\n",
        "        image_path = os.path.join(os.path.dirname(self.label_file), img_path)\n",
        "\n",
        "        assert os.path.exists(image_path), f\"{image_path} not found\"\n",
        "\n",
        "        image = Image.open(image_path).convert(\"L\")\n",
        "\n",
        "        if self.transform:\n",
        "            image = self.transform(image)\n",
        "\n",
        "        return image, label\n",
        "\n",
        "    def encode_label(self, text):\n",
        "        sos_idx = self.char_list.index(\"<SOS>\")\n",
        "        eos_idx = self.char_list.index(\"<EOS>\")\n",
        "        pad_idx = self.char_list.index(\"<PAD>\")\n",
        "\n",
        "        label = [self.char_list.index(c) for c in text]\n",
        "        label = [sos_idx] + label + [eos_idx]\n",
        "\n",
        "        # Pad to fixed length (max_label_len + 2 for SOS and EOS)\n",
        "        max_len = self.max_label_len + 2\n",
        "        label += [pad_idx] * (max_len - len(label))\n",
        "\n",
        "        return label\n",
        "\n",
        "    def decode_label(self, encoded):\n",
        "        \"\"\"\n",
        "        Decodifica una lista de índices en una cadena de texto (excluye tokens especiales).\n",
        "        \"\"\"\n",
        "        pad_idx = self.char_list.index(\"<PAD>\")\n",
        "        sos_idx = self.char_list.index(\"<SOS>\")\n",
        "        eos_idx = self.char_list.index(\"<EOS>\")\n",
        "\n",
        "        chars = []\n",
        "        for idx in encoded:\n",
        "            if idx in (pad_idx, sos_idx):  # Ignora PAD y SOS\n",
        "                continue\n",
        "            if idx == eos_idx:\n",
        "                break\n",
        "            chars.append(self.char_list[idx])\n",
        "        return ''.join(chars)\n",
        "\n",
        "\n",
        "    def get_vocab(self):\n",
        "        return self.char_list\n",
        "\n",
        "    def get_max_label_len(self):\n",
        "        return self.max_label_len\n",
        "\n",
        "    def custom_collate_fn(self, batch):\n",
        "        images, labels = zip(*batch)\n",
        "        images = torch.stack(images, dim=0)\n",
        "        pad_idx = self.char_list.index(\"<PAD>\")\n",
        "        labels = [torch.tensor(lbl, dtype=torch.long) for lbl in labels]\n",
        "        labels = pad_sequence(labels, batch_first=True, padding_value=pad_idx)\n",
        "        return images, labels"
      ]
    },
    {
      "cell_type": "markdown",
      "metadata": {
        "id": "V3kALQsWKJZs"
      },
      "source": [
        "# Data Loader"
      ]
    },
    {
      "cell_type": "code",
      "execution_count": null,
      "metadata": {
        "colab": {
          "base_uri": "https://localhost:8080/"
        },
        "id": "zkzB1pD3K8vV",
        "outputId": "7c015d24-19d7-4d47-d713-73245b922a3a"
      },
      "outputs": [
        {
          "name": "stdout",
          "output_type": "stream",
          "text": [
            "torch.Size([1, 32, 128])\n",
            "[1, 15, 27, 33, 26, 32, 17, 30, 32, 17, 26, 27, 30, 2, 0, 0, 0, 0, 0, 0, 0, 0, 0, 0, 0]\n"
          ]
        }
      ],
      "source": [
        "def collate_fn_wrapper(dataset):\n",
        "        def collate_fn(batch):\n",
        "            return dataset.custom_collate_fn(batch)\n",
        "        return collate_fn\n",
        "\n",
        "# Define image transformations to ensure same image size #### WITH NORMALIZATION?\n",
        "transform = transforms.Compose([\n",
        "    transforms.Resize((32, 128)),\n",
        "    transforms.ToTensor(),\n",
        "    transforms.Normalize(mean=[0.5], std=[0.5])\n",
        "])\n",
        "\n",
        "# Load dataset\n",
        "label_file = f\"/content/drive/MyDrive/mjsynth_sampled/label_{num_images}.txt\"\n",
        "dataset = TextRecognitionDataset(label_file, transform=transform)\n",
        "\n",
        "# Create DataLoader with your custom collate_fn from dataset instance\n",
        "train_loader = DataLoader(dataset, batch_size=32, shuffle=True, collate_fn=collate_fn_wrapper(dataset))\n",
        "\n",
        "# === Add special tokens to vocabulary ===\n",
        "special_tokens = [\"<PAD>\", \"<SOS>\", \"<EOS>\"]  # Padding, Start-of-Sequence, End-of-Sequence tokens\n",
        "\n",
        "# Merge special tokens with actual vocabulary, making sure to exclude duplicates\n",
        "vocab_list = special_tokens + [c for c in dataset.get_vocab() if c not in special_tokens]\n",
        "\n",
        "# Create mappings from token to index and vice versa\n",
        "token2idx = {token: idx for idx, token in enumerate(vocab_list)}\n",
        "idx2token = {idx: token for token, idx in token2idx.items()}\n",
        "\n",
        "vocab_size = len(token2idx)  # Total vocabulary size\n",
        "\n",
        "# Example sample\n",
        "image, label = dataset[0]\n",
        "print(image.shape)\n",
        "print(label)  # Should print the padded encoded label\n"
      ]
    },
    {
      "cell_type": "markdown",
      "metadata": {
        "id": "90mAqWerLABi"
      },
      "source": [
        "## Example image and its label"
      ]
    },
    {
      "cell_type": "code",
      "execution_count": null,
      "metadata": {
        "colab": {
          "base_uri": "https://localhost:8080/",
          "height": 183
        },
        "id": "fr-lIZ08LDY8",
        "outputId": "f3fc1116-9bdd-43c8-ab54-32c2f583fb7a"
      },
      "outputs": [
        {
          "data": {
            "image/png": "[encoded data removed]",
            "text/plain": [
              "<Figure size 640x480 with 1 Axes>"
            ]
          },
          "metadata": {},
          "output_type": "display_data"
        }
      ],
      "source": [
        "# Get a sample\n",
        "image_tensor, encoded_label = dataset[3]  # You can change the index here (e.g., dataset[10])\n",
        "\n",
        "# Convert tensor to image (CHW to HWC)\n",
        "image_np = image_tensor.squeeze().numpy()  # Shape: [32, 128] for grayscale\n",
        "\n",
        "# Decode the label from indices to characters\n",
        "vocab = dataset.get_vocab()\n",
        "pad_token = vocab.index(\"<PAD>\")\n",
        "\n",
        "# Remove padding tokens and decode\n",
        "decoded_label = ''.join([vocab[i] for i in encoded_label]) # if i != pad_token])\n",
        "\n",
        "# Show the image\n",
        "plt.imshow(image_np, cmap='gray')\n",
        "plt.title(f\"Label: {decoded_label}\")\n",
        "plt.axis('off')\n",
        "plt.show()\n"
      ]
    },
    {
      "cell_type": "markdown",
      "metadata": {
        "id": "cpRnBFFGLEQ8"
      },
      "source": [
        "## Train-Test split"
      ]
    },
    {
      "cell_type": "code",
      "execution_count": null,
      "metadata": {
        "id": "pSGfkOGnFlVe"
      },
      "outputs": [],
      "source": [
        "train_size = int(0.7 * len(dataset))\n",
        "val_size = len(dataset) - train_size\n",
        "\n",
        "train_dataset, val_dataset = torch.utils.data.random_split(dataset, [train_size, val_size])\n",
        "\n",
        "train_loader = DataLoader(\n",
        "    train_dataset,\n",
        "    batch_size=32,\n",
        "    shuffle=True,\n",
        "    num_workers=2,\n",
        "    collate_fn=collate_fn_wrapper(dataset)\n",
        ")\n",
        "\n",
        "val_loader = DataLoader(\n",
        "    val_dataset,\n",
        "    batch_size=32,\n",
        "    shuffle=False,\n",
        "    num_workers=2,\n",
        "    collate_fn=collate_fn_wrapper(dataset)\n",
        ")"
      ]
    },
    {
      "cell_type": "markdown",
      "metadata": {
        "id": "MzPKZnuHFqLp"
      },
      "source": [
        "# Model architectures"
      ]
    },
    {
      "cell_type": "markdown",
      "metadata": {
        "id": "a1uy0YuZzGi6"
      },
      "source": [
        "## Encoder"
      ]
    },
    {
      "cell_type": "markdown",
      "metadata": {
        "id": "-Ca7eO5V5lan"
      },
      "source": [
        "### CNN"
      ]
    },
    {
      "cell_type": "code",
      "execution_count": null,
      "metadata": {
        "id": "RcAddLvY5kcE"
      },
      "outputs": [],
      "source": [
        "# === Encoder: CNN with skip connections and progressive downsampling ===\n",
        "class Encoder_CNN(nn.Module):\n",
        "    def __init__(self):\n",
        "        super().__init__()\n",
        "\n",
        "        # Block 1: Conv + ReLU + MaxPool\n",
        "        self.block1 = nn.Sequential(\n",
        "            nn.Conv2d(1, 64, kernel_size=3, stride=1, padding=1),\n",
        "            nn.ReLU(),\n",
        "            nn.MaxPool2d(kernel_size=2, stride=2)\n",
        "        )\n",
        "\n",
        "        # Block 2: Conv + ReLU + MaxPool\n",
        "        self.block2 = nn.Sequential(\n",
        "            nn.Conv2d(64, 128, kernel_size=3, stride=1, padding=1),\n",
        "            nn.ReLU(),\n",
        "            nn.MaxPool2d(kernel_size=2, stride=2)\n",
        "        )\n",
        "\n",
        "        # Block 3: Conv + BatchNorm + ReLU\n",
        "        self.block3 = nn.Sequential(\n",
        "            nn.Conv2d(128, 256, kernel_size=3, stride=1, padding=1),\n",
        "            nn.BatchNorm2d(256),\n",
        "            nn.ReLU()\n",
        "        )\n",
        "\n",
        "        # Skip connection from block2 to block3\n",
        "        self.skip23 = nn.Conv2d(128, 256, kernel_size=1)\n",
        "\n",
        "        # Block 4: Conv + ReLU + MaxPool (with (2,1) to retain width info)\n",
        "        self.block4 = nn.Sequential(\n",
        "            nn.Conv2d(256, 256, kernel_size=3, stride=1, padding=1),\n",
        "            nn.ReLU(),\n",
        "            nn.MaxPool2d(kernel_size=(2, 1))\n",
        "        )\n",
        "\n",
        "        # Block 5: Conv + BatchNorm + ReLU + MaxPool\n",
        "        self.block5 = nn.Sequential(\n",
        "            nn.Conv2d(256, 512, kernel_size=3, stride=1, padding=1),\n",
        "            nn.BatchNorm2d(512),\n",
        "            nn.ReLU(),\n",
        "            nn.MaxPool2d(kernel_size=(2, 1))\n",
        "        )\n",
        "\n",
        "        # Skip connection from block4 to block5\n",
        "        self.skip45 = nn.Conv2d(256, 512, kernel_size=1)\n",
        "\n",
        "        # Final conv layer to flatten height dimension\n",
        "        self.final_conv = nn.Sequential(\n",
        "            nn.Conv2d(512, 512, kernel_size=(2, 1)),\n",
        "            nn.ReLU()\n",
        "        )\n",
        "\n",
        "    def forward(self, x):\n",
        "        x1 = self.block1(x)\n",
        "        x2 = self.block2(x1)\n",
        "\n",
        "        x3 = self.block3(x2)\n",
        "        skip_x2 = self.skip23(x2)\n",
        "        x3 = x3 + F.interpolate(skip_x2, size=x3.shape[2:], mode='nearest')\n",
        "\n",
        "        x4 = self.block4(x3)\n",
        "\n",
        "        x5 = self.block5(x4)\n",
        "        skip_x4 = self.skip45(x4)\n",
        "        x5 = x5 + F.interpolate(skip_x4, size=x5.shape[2:], mode='nearest')\n",
        "\n",
        "        x = self.final_conv(x5)  # [B, 512, H=1, W]\n",
        "        x = x.squeeze(2)         # [B, 512, W]\n",
        "        x = x.permute(0, 2, 1)   # [B, W, 512] - sequence of W steps with 512-dim features\n",
        "        return x"
      ]
    },
    {
      "cell_type": "markdown",
      "metadata": {
        "id": "gnFRQT6vQUSw"
      },
      "source": [
        "## Decoder"
      ]
    },
    {
      "cell_type": "markdown",
      "metadata": {
        "id": "jlZ4ack_1Vpp"
      },
      "source": [
        "### Option 1: GRU -> Attention"
      ]
    },
    {
      "cell_type": "code",
      "execution_count": null,
      "metadata": {
        "id": "vogKNVK-FsT1"
      },
      "outputs": [],
      "source": [
        "# === Decoder: GRU -> Attention ===\n",
        "class Decoder_GRU_Attention(nn.Module):\n",
        "    def __init__(self, hidden_size, output_size, dropout_p=0.1):\n",
        "        super().__init__()\n",
        "        self.hidden_size = hidden_size\n",
        "        self.output_size = output_size\n",
        "\n",
        "        self.embedding = nn.Embedding(output_size, hidden_size)\n",
        "        self.dropout = nn.Dropout(dropout_p)\n",
        "        self.gru = nn.GRU(hidden_size, hidden_size, batch_first=True)\n",
        "\n",
        "        # Scaled Dot-Product Attention\n",
        "        self.attn = nn.MultiheadAttention(hidden_size, num_heads=1, batch_first=True)\n",
        "        self.attn_combine = nn.Linear(hidden_size * 2, hidden_size)\n",
        "        self.out = nn.Linear(hidden_size, output_size)\n",
        "\n",
        "    def forward(self, input_token, hidden, encoder_outputs):\n",
        "        embedded = self.embedding(input_token).unsqueeze(1)  # [B, 1, H]\n",
        "        embedded = self.dropout(embedded)\n",
        "\n",
        "        gru_output, hidden = self.gru(embedded, hidden)  # [B, 1, H]\n",
        "        context, attn_weights = self.attn(gru_output, encoder_outputs, encoder_outputs)  # [B, 1, H]\n",
        "\n",
        "        combined = torch.cat((gru_output, context), dim=2)  # [B, 1, 2H]\n",
        "        combined = self.attn_combine(combined)              # [B, 1, H]\n",
        "        output = self.out(combined)                         # [B, 1, V]\n",
        "        return output.squeeze(1), hidden, attn_weights"
      ]
    },
    {
      "cell_type": "markdown",
      "metadata": {
        "id": "IPAneJUNyyWT"
      },
      "source": [
        "### Option 2: Attention -> GRU"
      ]
    },
    {
      "cell_type": "code",
      "execution_count": null,
      "metadata": {
        "id": "S1Uj8Ys_zB5L"
      },
      "outputs": [],
      "source": [
        "# === Decoder: Attention -> GRU ===\n",
        "class Decoder_Attention_GRU(nn.Module):\n",
        "    def __init__(self, hidden_size, output_size, dropout_p=0.1):\n",
        "        super().__init__()\n",
        "        self.hidden_size = hidden_size\n",
        "        self.output_size = output_size\n",
        "\n",
        "        self.embedding = nn.Embedding(output_size, hidden_size)\n",
        "        self.dropout = nn.Dropout(dropout_p)\n",
        "\n",
        "        # Multi-head attention before feeding into GRU\n",
        "        self.attn = nn.MultiheadAttention(hidden_size, num_heads=1, batch_first=True)\n",
        "        self.gru = nn.GRU(hidden_size, hidden_size, batch_first=True)\n",
        "        self.out = nn.Linear(hidden_size, output_size)\n",
        "\n",
        "    def forward(self, input_token, hidden, encoder_outputs):\n",
        "        embedded = self.embedding(input_token).unsqueeze(1)  # [B, 1, H]\n",
        "        embedded = self.dropout(embedded)\n",
        "\n",
        "        # Attention: query = embedded, key/value = encoder_outputs\n",
        "        context, attn_weights = self.attn(embedded, encoder_outputs, encoder_outputs)  # [B, 1, H]\n",
        "\n",
        "        # Feed attended context to GRU\n",
        "        output, hidden = self.gru(context, hidden)\n",
        "        output = self.out(output)  # [B, 1, V]\n",
        "        return output.squeeze(1), hidden, attn_weights"
      ]
    },
    {
      "cell_type": "markdown",
      "metadata": {
        "id": "4JtQr0LOjuYJ"
      },
      "source": [
        "### Option 3: TransformerDecoder"
      ]
    },
    {
      "cell_type": "code",
      "execution_count": null,
      "metadata": {
        "id": "Nkz7VM-Eju4i"
      },
      "outputs": [],
      "source": [
        "# === Transformer Decoder: with learnable positional encoding (properly initialized) ===\n",
        "class Transformer_Decoder(nn.Module):\n",
        "    def __init__(self, vocab_size, hidden_dim=512, nhead=8, num_layers=3, dropout=0.1, max_len=500):\n",
        "        super().__init__()\n",
        "        self.embedding = nn.Embedding(vocab_size, hidden_dim)\n",
        "\n",
        "        # === FIX: Learnable positional encodings are now properly initialized ===\n",
        "        self.positional_encoding = nn.Parameter(torch.zeros(1, max_len, hidden_dim))  # [1, T, H]\n",
        "        nn.init.normal_(self.positional_encoding, mean=0.0, std=0.02)  # 💡 Proper init instead of zeros\n",
        "\n",
        "        self.dropout = nn.Dropout(dropout)\n",
        "\n",
        "        decoder_layer = nn.TransformerDecoderLayer(\n",
        "            d_model=hidden_dim, nhead=nhead, dim_feedforward=2048, dropout=dropout, batch_first=True\n",
        "        )\n",
        "        self.transformer_decoder = nn.TransformerDecoder(decoder_layer, num_layers=num_layers)\n",
        "\n",
        "        self.fc_out = nn.Linear(hidden_dim, vocab_size)\n",
        "\n",
        "    def forward(self, tgt_tokens, memory, tgt_mask=None, memory_mask=None):\n",
        "        B, T_out = tgt_tokens.shape\n",
        "\n",
        "        # Embedding + Positional Encoding + Dropout\n",
        "        x = self.embedding(tgt_tokens)                          # [B, T, H]\n",
        "        x = x + self.positional_encoding[:, :T_out, :]         # 💡 Add positional encoding\n",
        "        x = self.dropout(x)\n",
        "\n",
        "        # Transformer decoder expects (B, T, H); tgt_mask must be causal\n",
        "        output = self.transformer_decoder(\n",
        "            tgt=x,\n",
        "            memory=memory,\n",
        "            tgt_mask=tgt_mask,\n",
        "            memory_mask=memory_mask\n",
        "        )\n",
        "\n",
        "        output = self.fc_out(output)  # [B, T, V]\n",
        "        return output"
      ]
    },
    {
      "cell_type": "markdown",
      "source": [
        "# Training"
      ],
      "metadata": {
        "id": "taO9UhZuBP_z"
      }
    },
    {
      "cell_type": "code",
      "source": [
        "# === Set up wandb run name and architecture string ===\n",
        "if model_selected == 1:\n",
        "    architecture = \"Encoder: CNN + Decoder: GRU with Attention\"\n",
        "    wandb_name = f\"Seq2Seq: CNN-GRU-Attention-{num_images}_imgs\"\n",
        "elif model_selected == 2:\n",
        "    architecture = \"Encoder: CNN + Decoder: Attention then GRU\"\n",
        "    wandb_name = f\"Seq2Seq: CNN-Attention-GRU-{num_images}_imgs\"\n",
        "elif model_selected == 3:\n",
        "    architecture = \"Encoder: CNN + Decoder: Transformer\"\n",
        "    wandb_name = f\"Seq2Seq: CNN-Transformer-{num_images}_imgs\"\n",
        "\n",
        "# === wandb config ===\n",
        "config = {\n",
        "    \"epochs\":15,\n",
        "    \"batch_size\": 32,\n",
        "    \"learning_rate\":  0.001,\n",
        "    \"architecture\": architecture\n",
        "}\n",
        "wandb.init(project=\"OCR\", name=wandb_name)"
      ],
      "metadata": {
        "id": "KBLue0UMBSax"
      },
      "execution_count": null,
      "outputs": []
    },
    {
      "cell_type": "markdown",
      "metadata": {
        "id": "tqAPdpOUFvgN"
      },
      "source": [
        "## Loss function and optimizer"
      ]
    },
    {
      "cell_type": "code",
      "execution_count": null,
      "metadata": {
        "id": "8-iS1OkuFx_8"
      },
      "outputs": [],
      "source": [
        "# === Instantiate encoder and decoder based on model choice ===\n",
        "if model_selected == 1:\n",
        "    # Baseline: CNN encoder with GRU + additive attention decoder\n",
        "    encoder = Encoder_CNN().to(device)\n",
        "    decoder = Decoder_GRU_Attention(hidden_size=512, output_size=vocab_size).to(device)\n",
        "elif model_selected == 2:\n",
        "    # Variant: CNN encoder + attention-first decoder with GRU\n",
        "    encoder = Encoder_CNN().to(device)\n",
        "    decoder = Decoder_Attention_GRU(hidden_size=512, output_size=vocab_size).to(device)\n",
        "elif model_selected == 3:\n",
        "    # Transformer-based decoder over CNN encoder\n",
        "    encoder = Encoder_CNN().to(device)\n",
        "    decoder = Transformer_Decoder(\n",
        "        vocab_size=vocab_size,\n",
        "        hidden_dim=512,\n",
        "        nhead=8,\n",
        "        num_layers=3,\n",
        "        dropout=0.1,\n",
        "        max_len=500\n",
        "    ).to(device)\n",
        "\n",
        "# === Loss Function ===\n",
        "# Using CrossEntropyLoss, which expects class indices.\n",
        "# No padding ignored here by default — consider `ignore_index=token2idx[\"<PAD>\"]` for padding.\n",
        "criterion = nn.CrossEntropyLoss(ignore_index=token2idx[\"<PAD>\"])\n",
        "\n",
        "# === Optimizer ===\n",
        "# Combine encoder and decoder parameters for joint optimization\n",
        "params = list(encoder.parameters()) + list(decoder.parameters())\n",
        "optimizer = torch.optim.Adam(params, lr=0.001)\n",
        "\n",
        "# Define learning rate scheduler to reduce LR every 5 epochs by factor 0.5 for stable convergence\n",
        "scheduler = CosineAnnealingLR(optimizer, T_max=config[\"epochs\"])"
      ]
    },
    {
      "cell_type": "markdown",
      "metadata": {
        "id": "77H1TEhiFzPQ"
      },
      "source": [
        "## Train one epoch"
      ]
    },
    {
      "cell_type": "code",
      "execution_count": null,
      "metadata": {
        "id": "sWFN1ttSF1BW"
      },
      "outputs": [],
      "source": [
        "def train_one_epoch_attention(encoder, decoder, dataloader, optimizer, criterion, vocab, max_len=32):\n",
        "    encoder.train()\n",
        "    decoder.train()\n",
        "    epoch_loss = 0\n",
        "\n",
        "    for imgs, labels in dataloader:\n",
        "        imgs = imgs.to(device)\n",
        "        labels = labels.to(device)\n",
        "        batch_size = imgs.size(0)\n",
        "\n",
        "        optimizer.zero_grad()\n",
        "\n",
        "        # === Forward pass ===\n",
        "        encoder_outputs = encoder(imgs)  # shape: [B, T_enc, H]\n",
        "        decoder_input = torch.full((batch_size,), vocab[\"<SOS>\"], dtype=torch.long, device=device)\n",
        "        decoder_hidden = None\n",
        "        loss = 0\n",
        "\n",
        "        # Teacher forcing: feed ground-truth label at each timestep\n",
        "        for t in range(labels.size(1)):\n",
        "            decoder_output, decoder_hidden, _ = decoder(decoder_input, decoder_hidden, encoder_outputs)\n",
        "            loss += criterion(decoder_output, labels[:, t])\n",
        "\n",
        "            # Teacher forcing decay\n",
        "            teacher_forcing_ratio = max(0.5, 1.0 - epoch * 0.1)  # Ejemplo: empieza en 1.0 y baja 0.1 por epoch\n",
        "\n",
        "            use_teacher_forcing = random.random() < teacher_forcing_ratio\n",
        "\n",
        "            if use_teacher_forcing:\n",
        "                decoder_input = labels[:, t]  # ground truth\n",
        "            else:\n",
        "                top1 = decoder_output.argmax(1)\n",
        "                decoder_input = top1.detach()  # model prediction\n",
        "\n",
        "        loss.backward()\n",
        "        optimizer.step()\n",
        "\n",
        "        epoch_loss += loss.item() / labels.size(1)  # Normalize by sequence length\n",
        "\n",
        "    avg_loss = epoch_loss / len(dataloader)\n",
        "    wandb.log({\"Train Loss\": avg_loss})\n",
        "    return avg_loss\n",
        "\n",
        "\n",
        "\n",
        "def train_one_epoch_transformer(encoder, decoder, dataloader, optimizer, criterion, vocab, max_len=32):\n",
        "    encoder.train()\n",
        "    decoder.train()\n",
        "    epoch_loss = 0\n",
        "\n",
        "    pad_idx = vocab.get(\"<PAD>\", None)  # <-- FIX here\n",
        "\n",
        "    for imgs, labels in dataloader:\n",
        "        imgs = imgs.to(device)\n",
        "        labels = labels.to(device)\n",
        "\n",
        "        batch_size = imgs.size(0)\n",
        "        optimizer.zero_grad()\n",
        "\n",
        "        encoder_outputs = encoder(imgs)\n",
        "\n",
        "        tgt_input = labels[:, :-1]\n",
        "        tgt_output = labels[:, 1:]\n",
        "        tgt_seq_len = tgt_input.size(1)\n",
        "\n",
        "        tgt_mask = nn.Transformer.generate_square_subsequent_mask(tgt_seq_len).to(device)\n",
        "\n",
        "        output = decoder(tgt_input, memory=encoder_outputs, tgt_mask=tgt_mask)\n",
        "\n",
        "        output = output.reshape(-1, output.size(-1))\n",
        "        tgt_output = tgt_output.reshape(-1)\n",
        "\n",
        "        if pad_idx is not None and hasattr(criterion, 'ignore_index'):\n",
        "            criterion.ignore_index = pad_idx\n",
        "\n",
        "        loss = criterion(output, tgt_output)\n",
        "\n",
        "        loss.backward()\n",
        "        optimizer.step()\n",
        "        epoch_loss += loss.item()\n",
        "\n",
        "    avg_loss = epoch_loss / len(dataloader)\n",
        "    wandb.log({\"Train Loss\": avg_loss})\n",
        "    return avg_loss"
      ]
    },
    {
      "cell_type": "markdown",
      "metadata": {
        "id": "c-MUmhKkFr_1"
      },
      "source": [
        "## Sanity-check before training"
      ]
    },
    {
      "cell_type": "code",
      "execution_count": null,
      "metadata": {
        "colab": {
          "base_uri": "https://localhost:8080/"
        },
        "id": "8we5tivEFDX_",
        "outputId": "ba11f4b6-56e0-4be3-fe71-be1dcac9dbdf"
      },
      "outputs": [
        {
          "name": "stdout",
          "output_type": "stream",
          "text": [
            "Sample 0: image shape=torch.Size([1, 32, 128]), label indices=[1, 15, 27, 33, 26, 32, 17, 30, 32, 17, 26, 27, 30, 2, 0, 0, 0, 0, 0, 0, 0, 0, 0, 0, 0]\n",
            "Decoded label: ['<SOS>', 'C', 'O', 'U', 'N', 'T', 'E', 'R', 'T', 'E', 'N', 'O', 'R', '<EOS>', '<PAD>', '<PAD>', '<PAD>', '<PAD>', '<PAD>', '<PAD>', '<PAD>', '<PAD>', '<PAD>', '<PAD>', '<PAD>']\n",
            "Sample 1: image shape=torch.Size([1, 32, 128]), label indices=[1, 28, 56, 47, 51, 39, 41, 63, 2, 0, 0, 0, 0, 0, 0, 0, 0, 0, 0, 0, 0, 0, 0, 0, 0]\n",
            "Decoded label: ['<SOS>', 'P', 'r', 'i', 'm', 'a', 'c', 'y', '<EOS>', '<PAD>', '<PAD>', '<PAD>', '<PAD>', '<PAD>', '<PAD>', '<PAD>', '<PAD>', '<PAD>', '<PAD>', '<PAD>', '<PAD>', '<PAD>', '<PAD>', '<PAD>', '<PAD>']\n",
            "Sample 2: image shape=torch.Size([1, 32, 128]), label indices=[1, 18, 59, 58, 59, 56, 53, 50, 53, 45, 63, 2, 0, 0, 0, 0, 0, 0, 0, 0, 0, 0, 0, 0, 0]\n",
            "Decoded label: ['<SOS>', 'F', 'u', 't', 'u', 'r', 'o', 'l', 'o', 'g', 'y', '<EOS>', '<PAD>', '<PAD>', '<PAD>', '<PAD>', '<PAD>', '<PAD>', '<PAD>', '<PAD>', '<PAD>', '<PAD>', '<PAD>', '<PAD>', '<PAD>']\n",
            "Sample 3: image shape=torch.Size([1, 32, 128]), label indices=[1, 35, 39, 58, 41, 46, 43, 56, 2, 0, 0, 0, 0, 0, 0, 0, 0, 0, 0, 0, 0, 0, 0, 0, 0]\n",
            "Decoded label: ['<SOS>', 'W', 'a', 't', 'c', 'h', 'e', 'r', '<EOS>', '<PAD>', '<PAD>', '<PAD>', '<PAD>', '<PAD>', '<PAD>', '<PAD>', '<PAD>', '<PAD>', '<PAD>', '<PAD>', '<PAD>', '<PAD>', '<PAD>', '<PAD>', '<PAD>']\n",
            "Sample 4: image shape=torch.Size([1, 32, 128]), label indices=[1, 31, 50, 59, 57, 46, 63, 2, 0, 0, 0, 0, 0, 0, 0, 0, 0, 0, 0, 0, 0, 0, 0, 0, 0]\n",
            "Decoded label: ['<SOS>', 'S', 'l', 'u', 's', 'h', 'y', '<EOS>', '<PAD>', '<PAD>', '<PAD>', '<PAD>', '<PAD>', '<PAD>', '<PAD>', '<PAD>', '<PAD>', '<PAD>', '<PAD>', '<PAD>', '<PAD>', '<PAD>', '<PAD>', '<PAD>', '<PAD>']\n"
          ]
        }
      ],
      "source": [
        "############## Validations\n",
        "\n",
        "for i in range(5):\n",
        "    img, label = dataset[i]\n",
        "    print(f\"Sample {i}: image shape={img.shape}, label indices={label}\")\n",
        "    print(f\"Decoded label: {[idx2token[idx] for idx in label]}\") # if idx != token2idx['<PAD>']]}\")"
      ]
    },
    {
      "cell_type": "code",
      "execution_count": null,
      "metadata": {
        "colab": {
          "base_uri": "https://localhost:8080/",
          "height": 211
        },
        "id": "zqHU3NCJFE1H",
        "outputId": "c4d79720-424c-4145-cb6d-509f79de51c0"
      },
      "outputs": [
        {
          "ename": "NameError",
          "evalue": "name 'train_loader' is not defined",
          "output_type": "error",
          "traceback": [
            "\u001b[0;31m---------------------------------------------------------------------------\u001b[0m",
            "\u001b[0;31mNameError\u001b[0m                                 Traceback (most recent call last)",
            "\u001b[0;32m/tmp/ipython-input-1-3235940955.py\u001b[0m in \u001b[0;36m<cell line: 0>\u001b[0;34m()\u001b[0m\n\u001b[0;32m----> 1\u001b[0;31m \u001b[0;32mfor\u001b[0m \u001b[0mimgs\u001b[0m\u001b[0;34m,\u001b[0m \u001b[0mlabels\u001b[0m \u001b[0;32min\u001b[0m \u001b[0mtrain_loader\u001b[0m\u001b[0;34m:\u001b[0m\u001b[0;34m\u001b[0m\u001b[0;34m\u001b[0m\u001b[0m\n\u001b[0m\u001b[1;32m      2\u001b[0m     \u001b[0mprint\u001b[0m\u001b[0;34m(\u001b[0m\u001b[0;34m\"Labels max value:\"\u001b[0m\u001b[0;34m,\u001b[0m \u001b[0mlabels\u001b[0m\u001b[0;34m.\u001b[0m\u001b[0mmax\u001b[0m\u001b[0;34m(\u001b[0m\u001b[0;34m)\u001b[0m\u001b[0;34m.\u001b[0m\u001b[0mitem\u001b[0m\u001b[0;34m(\u001b[0m\u001b[0;34m)\u001b[0m\u001b[0;34m)\u001b[0m\u001b[0;34m\u001b[0m\u001b[0;34m\u001b[0m\u001b[0m\n\u001b[1;32m      3\u001b[0m     \u001b[0mprint\u001b[0m\u001b[0;34m(\u001b[0m\u001b[0;34m\"Vocab size:\"\u001b[0m\u001b[0;34m,\u001b[0m \u001b[0mvocab_size\u001b[0m\u001b[0;34m)\u001b[0m\u001b[0;34m\u001b[0m\u001b[0;34m\u001b[0m\u001b[0m\n\u001b[1;32m      4\u001b[0m     \u001b[0;32massert\u001b[0m \u001b[0mlabels\u001b[0m\u001b[0;34m.\u001b[0m\u001b[0mmax\u001b[0m\u001b[0;34m(\u001b[0m\u001b[0;34m)\u001b[0m\u001b[0;34m.\u001b[0m\u001b[0mitem\u001b[0m\u001b[0;34m(\u001b[0m\u001b[0;34m)\u001b[0m \u001b[0;34m<\u001b[0m \u001b[0mvocab_size\u001b[0m\u001b[0;34m,\u001b[0m \u001b[0;34m\"Etiqueta fuera del rango del vocabulario\"\u001b[0m\u001b[0;34m\u001b[0m\u001b[0;34m\u001b[0m\u001b[0m\n\u001b[1;32m      5\u001b[0m     \u001b[0;32mbreak\u001b[0m\u001b[0;34m\u001b[0m\u001b[0;34m\u001b[0m\u001b[0m\n",
            "\u001b[0;31mNameError\u001b[0m: name 'train_loader' is not defined"
          ]
        }
      ],
      "source": [
        "for imgs, labels in train_loader:\n",
        "    print(\"Labels max value:\", labels.max().item())\n",
        "    print(\"Vocab size:\", vocab_size)\n",
        "    assert labels.max().item() < vocab_size, \"Labels out of vocabulary range\"\n",
        "    break"
      ]
    },
    {
      "cell_type": "markdown",
      "metadata": {
        "id": "GY4kmC2CQwTD"
      },
      "source": [
        "## Training Loop"
      ]
    },
    {
      "cell_type": "code",
      "execution_count": null,
      "metadata": {
        "colab": {
          "background_save": true,
          "base_uri": "https://localhost:8080/",
          "height": 495
        },
        "id": "LyOePsJMRNh3",
        "outputId": "8db45b09-492d-4716-ce93-ff6e9e63573e"
      },
      "outputs": [
        {
          "data": {
            "text/html": [
              "Finishing previous runs because reinit is set to 'default'."
            ],
            "text/plain": [
              "<IPython.core.display.HTML object>"
            ]
          },
          "metadata": {},
          "output_type": "display_data"
        },
        {
          "data": {
            "text/html": [
              "updating run metadata (2.3m)<br>  <strong style=\"color:red\">ERROR</strong> retrying HTTP 409: run g9e0famo was previously created and deleted; try a new run name"
            ],
            "text/plain": [
              "<IPython.core.display.HTML object>"
            ]
          },
          "metadata": {},
          "output_type": "display_data"
        }
      ],
      "source": [
        "best_loss = float('inf')\n",
        "\n",
        "# === Training loop ===\n",
        "for epoch in range(config[\"epochs\"]):\n",
        "    print(f\"\\nEpoch {epoch + 1}/{config['epochs']}\")\n",
        "\n",
        "    if model_selected in [1, 2]:\n",
        "        train_loss = train_one_epoch_attention(encoder, decoder, train_loader, optimizer, criterion, token2idx)\n",
        "    else:  # Transformer decoder\n",
        "        train_loss = train_one_epoch_transformer(encoder, decoder, train_loader, optimizer, criterion, token2idx)\n",
        "\n",
        "    print(f\"Train Loss: {train_loss:.4f}\")\n",
        "\n",
        "    # === Validation ===\n",
        "    encoder.eval()\n",
        "    decoder.eval()\n",
        "    val_loss = 0\n",
        "    all_preds = []\n",
        "    all_gts = []\n",
        "\n",
        "    with torch.no_grad():\n",
        "        for imgs, labels in val_loader:\n",
        "            imgs = imgs.to(device)\n",
        "            labels = labels.to(device)\n",
        "            batch_size = imgs.size(0)\n",
        "\n",
        "            encoder_outputs = encoder(imgs)\n",
        "\n",
        "            if model_selected in [1, 2]:  # GRU variants\n",
        "                decoder_input = torch.full((batch_size,), token2idx[\"<SOS>\"], dtype=torch.long, device=device)\n",
        "                decoder_hidden = None\n",
        "\n",
        "                preds_batch = []\n",
        "                for t in range(labels.size(1)):\n",
        "                    decoder_output, decoder_hidden, _ = decoder(decoder_input, decoder_hidden, encoder_outputs)\n",
        "                    val_loss += criterion(decoder_output, labels[:, t]).item()\n",
        "\n",
        "                    # Get top-1 prediction\n",
        "                    top1 = decoder_output.argmax(1)\n",
        "                    preds_batch.append(top1)\n",
        "\n",
        "                    top1 = decoder_output.argmax(1)\n",
        "                    decoder_input = top1.detach()\n",
        "\n",
        "\n",
        "                # Convert predicted token IDs to strings\n",
        "                preds_batch = torch.stack(preds_batch, dim=1)  # [B, T]\n",
        "                preds_strs = [decode_sequence(seq, idx2token) for seq in preds_batch]\n",
        "                gts_strs = [decode_sequence(seq, idx2token) for seq in labels]\n",
        "\n",
        "\n",
        "                all_preds.extend(preds_strs)\n",
        "                all_gts.extend(gts_strs)\n",
        "\n",
        "            else:  # Transformer decoder\n",
        "\n",
        "                batch_size = imgs.size(0)\n",
        "                max_length = labels.size(1) + 10  # Safety margin\n",
        "\n",
        "                # === Inference decoding (greedy autoregressive) ===\n",
        "                decoded_sequences = [[] for _ in range(batch_size)]\n",
        "\n",
        "                # Initialize decoder input with <SOS> token\n",
        "                decoder_input = torch.full(\n",
        "                    (batch_size, 1),\n",
        "                    token2idx[\"<SOS>\"],\n",
        "                    dtype=torch.long,\n",
        "                    device=device\n",
        "                )\n",
        "\n",
        "                for _ in range(max_length):\n",
        "                    tgt_mask = generate_square_subsequent_mask(decoder_input.size(1), device=device)\n",
        "\n",
        "                    # Forward pass through transformer decoder\n",
        "                    output = decoder(\n",
        "                        decoder_input,\n",
        "                        memory=encoder_outputs,\n",
        "                        tgt_mask=tgt_mask\n",
        "                    )  # [B, T, V]\n",
        "\n",
        "                    # Get last timestep predictions (greedy decoding)\n",
        "                    next_token_logits = output[:, -1, :]  # [B, V]\n",
        "                    next_token = next_token_logits.argmax(dim=-1, keepdim=True)  # [B, 1]\n",
        "\n",
        "                    # Append predicted tokens to sequences\n",
        "                    for i in range(batch_size):\n",
        "                        decoded_sequences[i].append(next_token[i].item())\n",
        "\n",
        "                    # Concatenate next token to decoder input for next step\n",
        "                    decoder_input = torch.cat([decoder_input, next_token], dim=1)\n",
        "\n",
        "                    # Optional: stop if all sequences predicted <EOS>\n",
        "                    # Uncomment if you want early stopping for efficiency\n",
        "                    # if all(token2idx[\"<EOS>\"] in seq for seq in decoded_sequences):\n",
        "                    #     break\n",
        "\n",
        "                # === Calculate loss using teacher forcing ===\n",
        "                tgt_input = labels[:, :-1]\n",
        "                tgt_output = labels[:, 1:]\n",
        "                tgt_seq_len = tgt_input.size(1)\n",
        "                tgt_mask = generate_square_subsequent_mask(tgt_seq_len).to(device)\n",
        "\n",
        "                output = decoder(tgt_input, memory=encoder_outputs, tgt_mask=tgt_mask)\n",
        "                output = output.reshape(-1, output.size(-1))\n",
        "                tgt_output = tgt_output.reshape(-1)\n",
        "                val_loss += criterion(output, tgt_output).item()\n",
        "\n",
        "                # === Decode predictions and GTs to string ===\n",
        "                preds_strs = [decode_sequence(seq, idx2token) for seq in decoded_sequences]\n",
        "                gts_strs = [decode_sequence(seq, idx2token) for seq in labels]\n",
        "\n",
        "                all_preds.extend(preds_strs)\n",
        "                all_gts.extend(gts_strs)\n",
        "\n",
        "\n",
        "    val_loss /= (len(val_loader) * labels.size(1))\n",
        "\n",
        "    print(f\"Val Loss: {val_loss:.4f}\")\n",
        "\n",
        "    # === Character Error Rate (CER) ===\n",
        "    cer = character_error_rate(all_preds, all_gts)\n",
        "    print(f\"CER: {cer:.4f}\")\n",
        "\n",
        "    # === Word Accuracy@k ===\n",
        "    acc_k_dict = {}\n",
        "    for k in [0, 1, 2]:\n",
        "        acc_k = word_accuracy_at_k(all_preds, all_gts, k)\n",
        "        acc_k_dict[f\"Word Accuracy @{k}\"] = acc_k\n",
        "        print(f\"Word Accuracy @{k}: {acc_k:.4f}\")\n",
        "\n",
        "    # === Learning Rate Logging ===\n",
        "    lr = optimizer.param_groups[0]['lr']\n",
        "    print(f\"Learning Rate: {lr:.6f}\")\n",
        "\n",
        "    # === Log to wandb ===\n",
        "    wandb.log({\n",
        "        \"epoch\": epoch + 1,\n",
        "        \"Train Loss\": train_loss,\n",
        "        \"Val Loss\": val_loss,\n",
        "        \"CER\": cer,\n",
        "        **acc_k_dict,\n",
        "        \"LR\": lr,\n",
        "    })\n",
        "\n",
        "    # === Step the learning rate scheduler ===\n",
        "    scheduler.step()\n",
        "\n",
        "    # === Save best model ===\n",
        "    if val_loss < best_loss:\n",
        "        best_loss = val_loss\n",
        "        torch.save({\n",
        "            \"encoder\": encoder.state_dict(),\n",
        "            \"decoder\": decoder.state_dict(),\n",
        "            \"vocab\": vocab,  # optional\n",
        "        }, \"OCR_seq_to_seq.pth\")"
      ]
    },
    {
      "cell_type": "markdown",
      "metadata": {
        "id": "uJS8XMWeF4NO"
      },
      "source": [
        "# Inference & Evaluation"
      ]
    },
    {
      "cell_type": "code",
      "source": [
        "visualize_predictions(encoder, decoder, dataset, token2idx, num_samples=10)"
      ],
      "metadata": {
        "id": "NwokZCoPBrNW"
      },
      "execution_count": null,
      "outputs": []
    },
    {
      "cell_type": "markdown",
      "metadata": {
        "id": "wjWzqRu27CMz"
      },
      "source": [
        "## Model Parameters"
      ]
    },
    {
      "cell_type": "code",
      "source": [
        "encoder_params = count_parameters(encoder)\n",
        "decoder_params = count_parameters(encoder)\n",
        "total_params = encoder_params + decoder_params\n",
        "\n",
        "print(f\"Number of Encoder parameters: {encoder_params:,}\")\n",
        "print(f\"Number of Decoder parameters: {decoder_params:,}\")\n",
        "\n",
        "wandb.log({\"Num Params\": total_params})"
      ],
      "metadata": {
        "id": "zuw6li6GBvZN"
      },
      "execution_count": null,
      "outputs": []
    },
    {
      "cell_type": "markdown",
      "source": [
        "## Final Evaluation"
      ],
      "metadata": {
        "id": "HZgHMihSBw2h"
      }
    },
    {
      "cell_type": "markdown",
      "source": [
        "### Token level metrics... word levels was as well"
      ],
      "metadata": {
        "id": "8cCC4_boBzpC"
      }
    },
    {
      "cell_type": "code",
      "execution_count": null,
      "metadata": {
        "id": "iq2auCX27Pdr"
      },
      "outputs": [],
      "source": [
        "def final_precision_recall_auc(encoder, decoder, val_loader, inv_vocab, token2idx):\n",
        "    \"\"\"\n",
        "    Computes Precision-Recall curve and AUC for seq2seq model (per-sample evaluation),\n",
        "    logs results to wandb, and saves the PR plot as an image artifact.\n",
        "    \"\"\"\n",
        "    encoder.eval()\n",
        "    decoder.eval()\n",
        "    y_true, y_scores = [], []\n",
        "\n",
        "    with torch.no_grad():\n",
        "        for images, labels in val_loader:\n",
        "            images = images.to(device)\n",
        "            labels = labels.to(device)\n",
        "            batch_size = images.size(0)\n",
        "\n",
        "            encoder_outputs = encoder(images)\n",
        "\n",
        "            # Initialize decoder input (<SOS>)\n",
        "            decoder_input = torch.full((batch_size,), token2idx[\"<SOS>\"], dtype=torch.long, device=device)\n",
        "            decoder_hidden = None\n",
        "            preds_batch = []\n",
        "            confidences_batch = []\n",
        "\n",
        "            for t in range(labels.size(1)):\n",
        "                decoder_output, decoder_hidden, _ = decoder(decoder_input, decoder_hidden, encoder_outputs)\n",
        "\n",
        "                probs = torch.softmax(decoder_output, dim=1)\n",
        "                top1 = probs.argmax(1)\n",
        "                confidence = probs.max(1).values.cpu().numpy()\n",
        "\n",
        "                preds_batch.append(top1)\n",
        "                confidences_batch.append(confidence)\n",
        "\n",
        "                decoder_input = top1  # Autoregressive decoding\n",
        "\n",
        "            # Convert predictions to strings\n",
        "            preds_batch = torch.stack(preds_batch, dim=1)\n",
        "            preds_strs = [decode_sequence(seq, inv_vocab) for seq in preds_batch]\n",
        "            gts_strs = [decode_ground_truth(seq, inv_vocab) for seq in labels]\n",
        "\n",
        "            # Mean confidence per sample (per-sample evaluation)\n",
        "            confidences_batch = np.stack(confidences_batch, axis=1)  # [B, T]\n",
        "            mean_confidences = confidences_batch.mean(axis=1)\n",
        "\n",
        "            sample_correctness = [int(p == g) for p, g in zip(preds_strs, gts_strs)]\n",
        "            y_true.extend(sample_correctness)\n",
        "            y_scores.extend(mean_confidences)\n",
        "\n",
        "    # Compute PR curve and AUC\n",
        "    precision, recall, thresholds = precision_recall_curve(y_true, y_scores)\n",
        "    pr_auc = auc(recall, precision)\n",
        "\n",
        "    # Plot and save PR curve\n",
        "    plt.figure(figsize=(6,5))\n",
        "    plt.plot(recall, precision, marker='.', label=f'AUC={pr_auc:.2f}')\n",
        "    plt.xlabel('Recall')\n",
        "    plt.ylabel('Precision')\n",
        "    plt.title('Precision-Recall Curve (Seq2Seq)')\n",
        "    plt.legend()\n",
        "    plt.grid(True)\n",
        "\n",
        "    with tempfile.NamedTemporaryFile(suffix=\".png\", delete=False) as tmpfile:\n",
        "        plt.savefig(tmpfile.name)\n",
        "        wandb.log({\"Precision-Recall Curve\": wandb.Image(tmpfile.name)})\n",
        "    plt.close()\n",
        "\n",
        "    wandb.log({\"Precision-Recall AUC\": pr_auc})\n",
        "\n",
        "    print(f\"Final Precision-Recall AUC: {pr_auc:.4f}\")\n",
        "    return pr_auc\n",
        "\n",
        "\n",
        "def final_roc_auc(encoder, decoder, val_loader, inv_vocab, token2idx):\n",
        "    \"\"\"\n",
        "    Computes ROC AUC for seq2seq model (per-sample evaluation),\n",
        "    logs results to wandb, and saves the ROC plot as an image artifact.\n",
        "    \"\"\"\n",
        "    encoder.eval()\n",
        "    decoder.eval()\n",
        "    y_true, y_scores = [], []\n",
        "\n",
        "    with torch.no_grad():\n",
        "        for images, labels in val_loader:\n",
        "            images = images.to(device)\n",
        "            labels = labels.to(device)\n",
        "            batch_size = images.size(0)\n",
        "\n",
        "            encoder_outputs = encoder(images)\n",
        "\n",
        "            # Initialize decoder input (<SOS>)\n",
        "            decoder_input = torch.full((batch_size,), token2idx[\"<SOS>\"], dtype=torch.long, device=device)\n",
        "            decoder_hidden = None\n",
        "            preds_batch = []\n",
        "            confidences_batch = []\n",
        "\n",
        "            for t in range(labels.size(1)):\n",
        "                decoder_output, decoder_hidden, _ = decoder(decoder_input, decoder_hidden, encoder_outputs)\n",
        "\n",
        "                probs = torch.softmax(decoder_output, dim=1)\n",
        "                top1 = probs.argmax(1)\n",
        "                confidence = probs.max(1).values.cpu().numpy()\n",
        "\n",
        "                preds_batch.append(top1)\n",
        "                confidences_batch.append(confidence)\n",
        "\n",
        "                decoder_input = top1  # Autoregressive decoding\n",
        "\n",
        "            # Convert predictions to strings\n",
        "            preds_batch = torch.stack(preds_batch, dim=1)\n",
        "            preds_strs = [decode_sequence(seq, inv_vocab) for seq in preds_batch]\n",
        "            gts_strs = [decode_ground_truth(seq, inv_vocab) for seq in labels]\n",
        "\n",
        "            # Mean confidence per sample (per-sample evaluation)\n",
        "            confidences_batch = np.stack(confidences_batch, axis=1)  # [B, T]\n",
        "            mean_confidences = confidences_batch.mean(axis=1)\n",
        "\n",
        "            sample_correctness = [int(p == g) for p, g in zip(preds_strs, gts_strs)]\n",
        "            y_true.extend(sample_correctness)\n",
        "            y_scores.extend(mean_confidences)\n",
        "\n",
        "    # Compute ROC curve and AUC\n",
        "    fpr, tpr, thresholds = roc_curve(y_true, y_scores)\n",
        "    roc_auc = roc_auc_score(y_true, y_scores)\n",
        "\n",
        "    # Plot and save ROC curve\n",
        "    plt.figure(figsize=(6,5))\n",
        "    plt.plot(fpr, tpr, marker='.', label=f'AUC={roc_auc:.2f}')\n",
        "    plt.xlabel('False Positive Rate')\n",
        "    plt.ylabel('True Positive Rate')\n",
        "    plt.title('ROC Curve (Seq2Seq)')\n",
        "    plt.legend()\n",
        "    plt.grid(True)\n",
        "\n",
        "    with tempfile.NamedTemporaryFile(suffix=\".png\", delete=False) as tmpfile:\n",
        "        plt.savefig(tmpfile.name)\n",
        "        wandb.log({\"ROC Curve\": wandb.Image(tmpfile.name)})\n",
        "    plt.close()\n",
        "\n",
        "    wandb.log({\"ROC AUC\": roc_auc})\n",
        "\n",
        "    print(f\"Final ROC AUC (Seq2Seq): {roc_auc:.4f}\")\n",
        "    return roc_auc\n"
      ]
    },
    {
      "cell_type": "code",
      "execution_count": null,
      "metadata": {
        "id": "l6Iap4Ovsadp"
      },
      "outputs": [],
      "source": [
        "final_precision_recall_auc(encoder, decoder, val_loader, vocab)"
      ]
    },
    {
      "cell_type": "code",
      "execution_count": null,
      "metadata": {
        "id": "M-R8vrfIsf7k"
      },
      "outputs": [],
      "source": [
        "final_roc_auc(encoder, decoder, val_loader, vocab)"
      ]
    }
  ],
  "metadata": {
    "accelerator": "GPU",
    "colab": {
      "gpuType": "T4",
      "provenance": []
    },
    "kernelspec": {
      "display_name": "Python 3",
      "name": "python3"
    },
    "language_info": {
      "codemirror_mode": {
        "name": "ipython",
        "version": 3
      },
      "file_extension": ".py",
      "mimetype": "text/x-python",
      "name": "python",
      "nbconvert_exporter": "python",
      "pygments_lexer": "ipython3",
      "version": "3.6.6"
    }
  },
  "nbformat": 4,
  "nbformat_minor": 0
}