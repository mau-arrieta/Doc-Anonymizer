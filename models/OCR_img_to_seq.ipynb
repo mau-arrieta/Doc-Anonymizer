{
  "cells": [
    {
      "cell_type": "code",
      "execution_count": null,
      "metadata": {
        "id": "MKBNUyP24FuC"
      },
      "outputs": [],
      "source": [
        "# !pip install -U datasets"
      ]
    },
    {
      "cell_type": "code",
      "execution_count": null,
      "metadata": {
        "colab": {
          "base_uri": "https://localhost:8080/"
        },
        "id": "m-hx1JYf_Cai",
        "outputId": "6ed8c74b-2a53-40d3-8033-5cbf381c60fe"
      },
      "outputs": [
        {
          "output_type": "stream",
          "name": "stdout",
          "text": [
            "Collecting Levenshtein\n",
            "  Downloading levenshtein-0.27.1-cp311-cp311-manylinux_2_17_x86_64.manylinux2014_x86_64.whl.metadata (3.6 kB)\n",
            "Collecting rapidfuzz<4.0.0,>=3.9.0 (from Levenshtein)\n",
            "  Downloading rapidfuzz-3.13.0-cp311-cp311-manylinux_2_17_x86_64.manylinux2014_x86_64.whl.metadata (12 kB)\n",
            "Downloading levenshtein-0.27.1-cp311-cp311-manylinux_2_17_x86_64.manylinux2014_x86_64.whl (161 kB)\n",
            "\u001b[2K   \u001b[90m━━━━━━━━━━━━━━━━━━━━━━━━━━━━━━━━━━━━━━━━\u001b[0m \u001b[32m161.7/161.7 kB\u001b[0m \u001b[31m7.6 MB/s\u001b[0m eta \u001b[36m0:00:00\u001b[0m\n",
            "\u001b[?25hDownloading rapidfuzz-3.13.0-cp311-cp311-manylinux_2_17_x86_64.manylinux2014_x86_64.whl (3.1 MB)\n",
            "\u001b[2K   \u001b[90m━━━━━━━━━━━━━━━━━━━━━━━━━━━━━━━━━━━━━━━━\u001b[0m \u001b[32m3.1/3.1 MB\u001b[0m \u001b[31m71.8 MB/s\u001b[0m eta \u001b[36m0:00:00\u001b[0m\n",
            "\u001b[?25hInstalling collected packages: rapidfuzz, Levenshtein\n",
            "Successfully installed Levenshtein-0.27.1 rapidfuzz-3.13.0\n"
          ]
        }
      ],
      "source": [
        "!pip install Levenshtein"
      ]
    },
    {
      "cell_type": "markdown",
      "metadata": {
        "id": "-Kl3eL1eJR_o"
      },
      "source": [
        "# Setup"
      ]
    },
    {
      "cell_type": "markdown",
      "metadata": {
        "id": "UmSXS7zPJmFc"
      },
      "source": [
        "## Imports, Load Sampled MJSynth, Setup Drive and Wandb"
      ]
    },
    {
      "cell_type": "code",
      "execution_count": null,
      "metadata": {
        "colab": {
          "base_uri": "https://localhost:8080/"
        },
        "id": "R7lTE5LQ4HA0",
        "outputId": "777783c4-c363-47ca-b7ac-8c0fa29e2249"
      },
      "outputs": [
        {
          "output_type": "stream",
          "name": "stdout",
          "text": [
            "Mounted at /content/drive\n"
          ]
        }
      ],
      "source": [
        "import os\n",
        "import random\n",
        "import shutil\n",
        "import pandas as pd\n",
        "import numpy as np\n",
        "import matplotlib.pyplot as plt\n",
        "import tempfile\n",
        "import wandb\n",
        "\n",
        "import torch\n",
        "from torch.utils.data import Dataset\n",
        "from torch.utils.data import DataLoader\n",
        "from torchvision import transforms\n",
        "import torch.nn.functional as F\n",
        "import torch.nn as nn\n",
        "from torch.nn.utils.rnn import pad_sequence\n",
        "from torch.optim.lr_scheduler import CosineAnnealingLR\n",
        "\n",
        "import Levenshtein\n",
        "from Levenshtein import distance as levenshtein_distance\n",
        "\n",
        "from sklearn.metrics import precision_recall_curve, auc\n",
        "from sklearn.metrics import roc_curve, roc_auc_score\n",
        "from tqdm import tqdm\n",
        "from difflib import SequenceMatcher\n",
        "from itertools import groupby\n",
        "from datasets import load_dataset\n",
        "from PIL import Image\n",
        "\n",
        "from google.colab import drive\n",
        "drive.mount('/content/drive')\n",
        "\n",
        "device = torch.device(\"cuda\" if torch.cuda.is_available() else \"cpu\")"
      ]
    },
    {
      "cell_type": "markdown",
      "metadata": {
        "id": "hWj9v1Nt3ZJl"
      },
      "source": [
        "## Configs"
      ]
    },
    {
      "cell_type": "code",
      "execution_count": null,
      "metadata": {
        "id": "RMzNH9RJ3Cok"
      },
      "outputs": [],
      "source": [
        "num_images = 25000\n",
        "model_selected = 2  # 1: CNN + BiLSTMS\n",
        "                    # 2: CNN + Attention"
      ]
    },
    {
      "cell_type": "markdown",
      "metadata": {
        "id": "Oo-T-zYx_Qr1"
      },
      "source": [
        "## Utility functions"
      ]
    },
    {
      "cell_type": "code",
      "execution_count": null,
      "metadata": {
        "id": "DvlGkRTn_TEj"
      },
      "outputs": [],
      "source": [
        "# Utility function: Greedy CTC decoder to convert model output logits to readable text sequences\n",
        "def ctc_decoder(logits, char_list):\n",
        "    \"\"\"\n",
        "    Decodes logits using greedy CTC decoding by collapsing repeated characters and removing blanks.\n",
        "    Args:\n",
        "        logits: Tensor of shape (T, B, C) — time, batch, classes\n",
        "        char_list: list of characters (vocab)\n",
        "    Returns:\n",
        "        List[str]: decoded strings for each sample in the batch\n",
        "    \"\"\"\n",
        "    if logits.ndim == 3 and logits.shape[0] != logits.size(1):\n",
        "        pass  # shape validation; no operation needed here\n",
        "\n",
        "    preds = torch.argmax(logits, dim=2)  # take most probable class at each timestep → [T, B]\n",
        "    preds = preds.permute(1, 0)  # transpose to [B, T] for easier iteration per sample\n",
        "\n",
        "    blank_idx = len(char_list)  # index used to represent the CTC blank token\n",
        "    results = []\n",
        "    for seq in preds:\n",
        "        prev = None\n",
        "        chars = []\n",
        "        for idx in seq.tolist():\n",
        "            # skip if character is blank or repeated\n",
        "            if idx != prev and idx != blank_idx:\n",
        "                chars.append(char_list[idx])\n",
        "            prev = idx\n",
        "        results.append(''.join(chars))\n",
        "    return results\n",
        "\n",
        "\n",
        "# Utility function: Decodes a single ground truth tensor label into string format for comparison\n",
        "def decode_label(tensor_label, char_list):\n",
        "    \"\"\"\n",
        "    Converts a padded label tensor to string, ignoring blank tokens.\n",
        "    \"\"\"\n",
        "    blank_idx = len(char_list)\n",
        "    return ''.join(char_list[i] for i in tensor_label.tolist() if i != blank_idx)\n",
        "\n",
        "\n",
        "# Utility function: Computes normalized edit distance between two strings as a similarity metric\n",
        "def compute_edit_distance(pred, gt):\n",
        "    return 1 - SequenceMatcher(None, pred, gt).ratio()\n",
        "\n",
        "\n",
        "# Utility function: Calculates character-level accuracy across all predictions\n",
        "def character_accuracy(preds, gts):\n",
        "    \"\"\"\n",
        "    Returns the proportion of correctly predicted characters over all ground truths.\n",
        "    \"\"\"\n",
        "    correct, total = 0, 0\n",
        "    for p, g in zip(preds, gts):\n",
        "        m = min(len(p), len(g))\n",
        "        correct += sum(p[i] == g[i] for i in range(m))\n",
        "        total += len(g)\n",
        "    return correct / total if total else 0\n",
        "\n",
        "\n",
        "# Utility function: Calculates word-level accuracy (exact match) across all predictions\n",
        "def word_accuracy(preds, gts):\n",
        "    \"\"\"\n",
        "    Returns the proportion of completely correct word predictions.\n",
        "    \"\"\"\n",
        "    correct = sum(p == g for p, g in zip(preds, gts))\n",
        "    return correct / len(gts) if gts else 0\n",
        "\n",
        "\n",
        "# Utility function: Visualizes sample predictions vs ground truths with decoded text and accuracy metrics\n",
        "def visualize_predictions(model, dataset, char_list, num_samples=4):\n",
        "    \"\"\"\n",
        "    Displays a few random samples with their ground truth and predicted text for quick qualitative evaluation.\n",
        "    \"\"\"\n",
        "    model.eval()\n",
        "    loader = torch.utils.data.DataLoader(\n",
        "        dataset, batch_size=num_samples, shuffle=True,\n",
        "        collate_fn=TextRecognitionDataset.custom_collate_fn\n",
        "    )\n",
        "    images, labels = next(iter(loader))\n",
        "    images = images.to(device)\n",
        "\n",
        "    with torch.no_grad():\n",
        "        logits = model(images)  # model forward pass, expected shape [T, B, C]\n",
        "        print(\"Raw logits sample slice:\", logits[:5, 0, :10])  # inspect first few timesteps and classes\n",
        "        preds = ctc_decoder(logits, char_list)\n",
        "\n",
        "    gts = [decode_label(lbl, char_list) for lbl in labels]\n",
        "\n",
        "    plt.figure(figsize=(15, 4))\n",
        "    for i in range(num_samples):\n",
        "        img = images[i].cpu().squeeze().numpy()\n",
        "        plt.subplot(1, num_samples, i+1)\n",
        "        plt.imshow(img, cmap='gray')\n",
        "        plt.title(f\"GT:{gts[i]}\\nPR:{preds[i]}\")\n",
        "        plt.axis('off')\n",
        "    plt.tight_layout()\n",
        "    plt.show()\n",
        "\n",
        "    print(\"\\nSample Metrics:\")\n",
        "    print(f\"Char Acc: {character_accuracy(preds, gts):.4f}\")\n",
        "    print(f\"Word Acc: {word_accuracy(preds, gts):.4f}\")\n",
        "\n",
        "\n",
        "# Utility function: Counts total number of trainable parameters in the model for model size evaluation\n",
        "def count_parameters(model):\n",
        "    return sum(p.numel() for p in model.parameters() if p.requires_grad)\n",
        "\n",
        "\n",
        "# Utility function: Computes Character Error Rate (CER) as total edit distance normalized by total GT characters\n",
        "def character_error_rate(preds, gts):\n",
        "    total_edits, total_chars = 0, 0\n",
        "    for p, g in zip(preds, gts):\n",
        "        total_edits += levenshtein_distance(p, g)\n",
        "        total_chars += len(g)\n",
        "    return total_edits / total_chars if total_chars else 0\n",
        "\n",
        "\n",
        "# Utility function: Computes word-level accuracy allowing up to k character differences (edit distance tolerance)\n",
        "def word_accuracy_at_k(preds, gts, k):\n",
        "    correct = sum(levenshtein_distance(p, g) <= k for p, g in zip(preds, gts))\n",
        "    return correct / len(gts) if gts else 0\n"
      ]
    },
    {
      "cell_type": "markdown",
      "metadata": {
        "id": "mChlcnGJLeVd"
      },
      "source": [
        "## Load Dataset into Drive"
      ]
    },
    {
      "cell_type": "code",
      "execution_count": null,
      "metadata": {
        "id": "UAvTBTSVFuDR"
      },
      "outputs": [],
      "source": [
        "# # Load MJSynth dataset (non-streaming)\n",
        "# ds = load_dataset(\"priyank-m/MJSynth_text_recognition\", split=\"train\")\n",
        "\n",
        "# # Shuffle and select num_images samples\n",
        "# sampled = ds.shuffle(seed=42).select(range(num_images))\n",
        "# assert len(sampled) == num_images, f\"Sampled {len(sampled)} images, expected {num_images}\"\n",
        "\n",
        "# # Define output paths with versioning\n",
        "# base_dir = \"/content/drive/MyDrive/mjsynth_sampled\"\n",
        "# images_dir = os.path.join(base_dir, \"images\")\n",
        "# os.makedirs(images_dir, exist_ok=True)\n",
        "\n",
        "# label_txt_path = os.path.join(base_dir, f\"label_{num_images}.txt\")\n",
        "\n",
        "# # Save sampled images and label file\n",
        "# with open(label_txt_path, \"w\") as f:\n",
        "#     for idx, item in enumerate(sampled):\n",
        "#         image: Image.Image = item['image']\n",
        "#         label = item['label']\n",
        "\n",
        "#         filename = f\"img_{idx:05d}.jpg\"\n",
        "#         full_img_path = os.path.join(images_dir, filename)\n",
        "#         relative_path = os.path.relpath(full_img_path, base_dir)\n",
        "\n",
        "#         if not os.path.exists(full_img_path):\n",
        "#             image.save(full_img_path)\n",
        "\n",
        "#         f.write(f\"{relative_path}\\t{label}\\n\")\n"
      ]
    },
    {
      "cell_type": "markdown",
      "metadata": {
        "id": "qlXy0v1BJZ7_"
      },
      "source": [
        "# Pre - Processing"
      ]
    },
    {
      "cell_type": "code",
      "execution_count": null,
      "metadata": {
        "id": "2exHiJrkDrMG"
      },
      "outputs": [],
      "source": [
        "class TextRecognitionDataset(Dataset):\n",
        "    \"\"\"\n",
        "    Custom dataset class for OCR text recognition.\n",
        "    Loads image paths and labels from a file, processes images, encodes labels into integers.\n",
        "    \"\"\"\n",
        "\n",
        "    def __init__(self, label_file, transform=None, char_list=None, max_label_len=None):\n",
        "        \"\"\"\n",
        "        Initializes the dataset by loading file paths and labels.\n",
        "\n",
        "        Args:\n",
        "            label_file: Path to label.txt containing image paths and labels separated by tab.\n",
        "            transform: torchvision transforms to apply to each image.\n",
        "            char_list: predefined character vocabulary. If None, built from dataset labels.\n",
        "            max_label_len: maximum label length for padding. If None, inferred from dataset.\n",
        "        \"\"\"\n",
        "        # Load image paths and labels from file into a DataFrame\n",
        "        self.samples = pd.read_csv(label_file, sep=\"\\t\", names=[\"img_path\", \"label\"])\n",
        "        self.samples.dropna(inplace=True)  # remove rows with missing labels\n",
        "\n",
        "        self.transform = transform\n",
        "        self.label_file = label_file\n",
        "\n",
        "        # Build vocabulary if not provided\n",
        "        if char_list is None:\n",
        "            all_text = \"\".join(self.samples[\"label\"])\n",
        "            self.char_list = sorted(set(all_text))  # sorted list of unique characters in dataset\n",
        "        else:\n",
        "            self.char_list = char_list\n",
        "\n",
        "        # Determine maximum label length (used for padding)\n",
        "        self.max_label_len = max_label_len or self.samples[\"label\"].str.len().max()\n",
        "\n",
        "        # Pre-encode all labels to integer sequences\n",
        "        self.encoded_labels = self.samples[\"label\"].apply(self.encode_label)\n",
        "\n",
        "    def __len__(self):\n",
        "        \"\"\"\n",
        "        Returns the number of samples in the dataset.\n",
        "        \"\"\"\n",
        "        return len(self.samples)\n",
        "\n",
        "    def __getitem__(self, idx):\n",
        "        \"\"\"\n",
        "        Loads and returns a single sample (image tensor and encoded label tensor).\n",
        "        \"\"\"\n",
        "        img_path = self.samples.iloc[idx][\"img_path\"]\n",
        "        label = self.encoded_labels.iloc[idx]\n",
        "\n",
        "        # Build full image path relative to label file directory\n",
        "        image_path = os.path.join(os.path.dirname(self.label_file), img_path)\n",
        "        image = Image.open(image_path).convert(\"L\")  # load as grayscale\n",
        "\n",
        "        if self.transform:\n",
        "            image = self.transform(image)\n",
        "\n",
        "        return image, label\n",
        "\n",
        "    def encode_label(self, text):\n",
        "        \"\"\"\n",
        "        Encodes a string label into a list of integer indices based on the character vocabulary.\n",
        "        Pads the encoded label with blank indices to match max_label_len.\n",
        "        \"\"\"\n",
        "        label = [self.char_list.index(c) for c in text]\n",
        "        padded = label + [len(self.char_list)] * (self.max_label_len - len(label))\n",
        "        return padded\n",
        "\n",
        "    def get_vocab(self):\n",
        "        \"\"\"\n",
        "        Returns the character vocabulary used for encoding.\n",
        "        \"\"\"\n",
        "        return self.char_list\n",
        "\n",
        "    def get_max_label_len(self):\n",
        "        \"\"\"\n",
        "        Returns the maximum label length (after padding).\n",
        "        \"\"\"\n",
        "        return self.max_label_len\n",
        "\n",
        "    @staticmethod\n",
        "    def custom_collate_fn(batch):\n",
        "        \"\"\"\n",
        "        Custom collate function for DataLoader.\n",
        "        Stacks images into a batch tensor and converts list of encoded labels into tensor.\n",
        "        \"\"\"\n",
        "        images, labels = zip(*batch)\n",
        "        images = torch.stack(images, 0)\n",
        "        labels = torch.tensor(labels, dtype=torch.long)\n",
        "        return images, labels\n"
      ]
    },
    {
      "cell_type": "markdown",
      "metadata": {
        "id": "V3kALQsWKJZs"
      },
      "source": [
        "# Data Loader"
      ]
    },
    {
      "cell_type": "code",
      "execution_count": null,
      "metadata": {
        "colab": {
          "base_uri": "https://localhost:8080/"
        },
        "id": "zkzB1pD3K8vV",
        "outputId": "f1eebad4-52cf-4805-b06d-37cda9f8c634"
      },
      "outputs": [
        {
          "output_type": "stream",
          "name": "stdout",
          "text": [
            "torch.Size([1, 32, 128])\n",
            "[12, 24, 30, 23, 29, 14, 27, 29, 14, 23, 24, 27, 62, 62, 62, 62, 62, 62, 62, 62, 62, 62, 62]\n"
          ]
        }
      ],
      "source": [
        "# Define Image Transformations to ensure same image size\n",
        "transform = transforms.Compose([\n",
        "    transforms.Resize((32, 128)),\n",
        "    transforms.ToTensor()\n",
        "])\n",
        "\n",
        "# Load dataset\n",
        "label_file = f\"/content/drive/MyDrive/mjsynth_sampled/label_{num_images}.txt\"\n",
        "dataset = TextRecognitionDataset(label_file, transform=transform)\n",
        "\n",
        "vocab = dataset.get_vocab()\n",
        "vocab_size = len(vocab)\n",
        "blank_token = vocab_size  # assign blank token index\n",
        "\n",
        "# Example sample\n",
        "image, label = dataset[0]\n",
        "print(image.shape)\n",
        "print(label) # Padded encoded label"
      ]
    },
    {
      "cell_type": "markdown",
      "metadata": {
        "id": "90mAqWerLABi"
      },
      "source": [
        "## Example image and its label"
      ]
    },
    {
      "cell_type": "code",
      "execution_count": null,
      "metadata": {
        "colab": {
          "base_uri": "https://localhost:8080/",
          "height": 183
        },
        "id": "fr-lIZ08LDY8",
        "outputId": "22838a59-8c06-4b90-96c0-a9204cb095b7"
      },
      "outputs": [
        {
          "output_type": "display_data",
          "data": {
            "text/plain": [
              "<Figure size 640x480 with 1 Axes>"
            ],
            "image/png": "[encoded data removed]"
          },
          "metadata": {}
        }
      ],
      "source": [
        "# Get a sample\n",
        "image_tensor, encoded_label = dataset[3]  # You can change the index here (e.g., dataset[10])\n",
        "\n",
        "# Convert tensor to image (CHW to HWC)\n",
        "image_np = image_tensor.squeeze().numpy()  # Shape: [32, 128] for grayscale\n",
        "\n",
        "pad_token = vocab_size  # padding uses this value\n",
        "\n",
        "# Remove padding tokens and decode\n",
        "decoded_label = ''.join([vocab[i] for i in encoded_label if i != pad_token])\n",
        "\n",
        "# Show the image\n",
        "plt.imshow(image_np, cmap='gray')\n",
        "plt.title(f\"Label: {decoded_label}\")\n",
        "plt.axis('off')\n",
        "plt.show()\n"
      ]
    },
    {
      "cell_type": "markdown",
      "metadata": {
        "id": "cpRnBFFGLEQ8"
      },
      "source": [
        "## Train-Test split"
      ]
    },
    {
      "cell_type": "code",
      "execution_count": null,
      "metadata": {
        "id": "pSGfkOGnFlVe"
      },
      "outputs": [],
      "source": [
        "# Split the dataset into training and validation sets (70% train, 30% val)\n",
        "train_size = int(0.7 * len(dataset))\n",
        "val_size = len(dataset) - train_size\n",
        "\n",
        "train_dataset, val_dataset = torch.utils.data.random_split(dataset, [train_size, val_size])\n",
        "\n",
        "# Define DataLoader for training set with shuffling for batching and generalisation\n",
        "train_loader = DataLoader(\n",
        "    train_dataset,\n",
        "    batch_size=32,\n",
        "    shuffle=True,\n",
        "    num_workers=2,\n",
        "    collate_fn=TextRecognitionDataset.custom_collate_fn\n",
        ")\n",
        "\n",
        "# Define DataLoader for validation set without shuffling\n",
        "val_loader = DataLoader(\n",
        "    val_dataset,\n",
        "    batch_size=32,\n",
        "    shuffle=False,\n",
        "    num_workers=2,\n",
        "    collate_fn=TextRecognitionDataset.custom_collate_fn\n",
        ")\n"
      ]
    },
    {
      "cell_type": "markdown",
      "metadata": {
        "id": "MzPKZnuHFqLp"
      },
      "source": [
        "# Model"
      ]
    },
    {
      "cell_type": "markdown",
      "metadata": {
        "id": "a1uy0YuZzGi6"
      },
      "source": [
        "## CNN"
      ]
    },
    {
      "cell_type": "code",
      "execution_count": null,
      "metadata": {
        "id": "4B1x_cTeyxCg"
      },
      "outputs": [],
      "source": [
        "class ConvBlock(nn.Module):\n",
        "    \"\"\"\n",
        "    Basic convolutional block with optional residual connection.\n",
        "    Consists of Conv2d -> BatchNorm -> ReLU layers.\n",
        "    \"\"\"\n",
        "    def __init__(self, in_channels, out_channels, kernel_size, stride, padding, residual=False):\n",
        "        super().__init__()\n",
        "        self.residual = residual and in_channels == out_channels  # enable residual only if dimensions match\n",
        "        self.conv = nn.Sequential(\n",
        "            nn.Conv2d(in_channels, out_channels, kernel_size, stride, padding),\n",
        "            nn.BatchNorm2d(out_channels),\n",
        "            nn.ReLU(inplace=True)\n",
        "        )\n",
        "\n",
        "    def forward(self, x):\n",
        "        out = self.conv(x)\n",
        "        if self.residual:\n",
        "            return out + x  # add input for residual connection\n",
        "        return out\n",
        "\n",
        "\n",
        "def build_cnn(nc):\n",
        "    \"\"\"\n",
        "    Builds a feature extraction CNN to reduce input height to 1 for CRNN models.\n",
        "\n",
        "    Args:\n",
        "        nc: number of input channels (e.g. 1 for grayscale images)\n",
        "    Returns:\n",
        "        nn.Sequential containing convolutional feature extractor\n",
        "\n",
        "    Input shape: (B, 1, H, W)\n",
        "    Output shape: (B, 512, 1, W')\n",
        "    \"\"\"\n",
        "    layers = [\n",
        "        ConvBlock(nc, 64, 3, 1, 1),\n",
        "        nn.MaxPool2d(2, 2),  # halve height\n",
        "\n",
        "        ConvBlock(64, 128, 3, 1, 1),\n",
        "        nn.MaxPool2d(2, 2),  # halve height again\n",
        "\n",
        "        ConvBlock(128, 256, 3, 1, 1),\n",
        "        ConvBlock(256, 256, 3, 1, 1),  # second 256 block; residual disabled to reduce memory\n",
        "\n",
        "        nn.MaxPool2d((2, 1)),  # reduce height further, keep width\n",
        "\n",
        "        ConvBlock(256, 512, 3, 1, 1),\n",
        "        nn.BatchNorm2d(512),\n",
        "        nn.ReLU(inplace=True),\n",
        "\n",
        "        nn.MaxPool2d((2, 1)),  # final pooling along height\n",
        "\n",
        "        nn.AdaptiveAvgPool2d((1, None))  # ensure output height = 1, width preserved\n",
        "    ]\n",
        "\n",
        "    return nn.Sequential(*layers)\n"
      ]
    },
    {
      "cell_type": "markdown",
      "metadata": {
        "id": "gnFRQT6vQUSw"
      },
      "source": [
        "## CRNN"
      ]
    },
    {
      "cell_type": "markdown",
      "metadata": {
        "id": "jlZ4ack_1Vpp"
      },
      "source": [
        "### Option 1: CNN + BiLSTM"
      ]
    },
    {
      "cell_type": "code",
      "execution_count": null,
      "metadata": {
        "id": "vogKNVK-FsT1"
      },
      "outputs": [],
      "source": [
        "class CRNN_BiLSTM(nn.Module):\n",
        "    \"\"\"\n",
        "    CRNN model with CNN feature extractor and bidirectional LSTM for sequence modeling.\n",
        "    Suitable for OCR tasks with CTC decoding.\n",
        "    \"\"\"\n",
        "    def __init__(self, img_h, nc, nclass, nh=256, num_rnn_layers=2):\n",
        "        \"\"\"\n",
        "        Args:\n",
        "            img_h: input image height (unused, kept for compatibility)\n",
        "            nc: number of input channels (1 for grayscale)\n",
        "            nclass: number of output classes (characters + blank)\n",
        "            nh: hidden size of LSTM\n",
        "            num_rnn_layers: number of stacked LSTM layers\n",
        "        \"\"\"\n",
        "        super().__init__()\n",
        "\n",
        "        self.cnn = build_cnn(nc)\n",
        "\n",
        "        self.rnn = nn.LSTM(\n",
        "            input_size=512,       # CNN output channels\n",
        "            hidden_size=nh,\n",
        "            num_layers=num_rnn_layers,\n",
        "            bidirectional=True    # captures both left-to-right and right-to-left dependencies\n",
        "        )\n",
        "        self.embedding = nn.Linear(nh * 2, nclass)  # combines both directions to output class logits\n",
        "\n",
        "    def forward(self, x):\n",
        "        conv = self.cnn(x)  # shape: (B, 512, 1, W)\n",
        "        b, c, h, w = conv.size()\n",
        "        assert h == 1, f\"Expected height=1 after CNN, got {h}\"\n",
        "\n",
        "        conv = conv.squeeze(2).permute(2, 0, 1)  # reshape to (W, B, 512) for LSTM input\n",
        "\n",
        "        rnn_out, _ = self.rnn(conv)\n",
        "        out = self.embedding(rnn_out)  # shape: (W, B, nclass)\n",
        "        return out"
      ]
    },
    {
      "cell_type": "markdown",
      "metadata": {
        "id": "IPAneJUNyyWT"
      },
      "source": [
        "### Option 2: CNN + Attention"
      ]
    },
    {
      "cell_type": "code",
      "execution_count": null,
      "metadata": {
        "id": "S1Uj8Ys_zB5L"
      },
      "outputs": [],
      "source": [
        "class CRNN_Attention(nn.Module):\n",
        "    \"\"\"\n",
        "    CRNN model with CNN feature extractor and multi-head self-attention for sequence modeling.\n",
        "    Uses causal mask to preserve autoregressive property required by CTC decoding.\n",
        "    \"\"\"\n",
        "    def __init__(self, img_h, nc, nclass, nh=256, num_heads=1, dropout=0.1):\n",
        "        \"\"\"\n",
        "        Args:\n",
        "            img_h: input image height (unused, kept for compatibility)\n",
        "            nc: number of input channels\n",
        "            nclass: number of output classes\n",
        "            nh: hidden size of attention\n",
        "            num_heads: number of attention heads\n",
        "            dropout: dropout rate\n",
        "        \"\"\"\n",
        "        super().__init__()\n",
        "\n",
        "        self.cnn = build_cnn(nc)\n",
        "        self.proj = nn.Linear(512, nh)  # project CNN output channels to attention hidden size\n",
        "\n",
        "        self.norm1 = nn.LayerNorm(nh)\n",
        "        self.attn = nn.MultiheadAttention(embed_dim=nh, num_heads=num_heads, dropout=dropout, batch_first=True)\n",
        "        self.dropout = nn.Dropout(dropout)\n",
        "        self.embedding = nn.Linear(nh, nclass)\n",
        "\n",
        "    def forward(self, x):\n",
        "        conv = self.cnn(x)  # (B, 512, 1, W)\n",
        "        b, c, h, w = conv.size()\n",
        "        assert h == 1, f\"Expected height=1 after CNN, got {h}\"\n",
        "\n",
        "        conv = conv.squeeze(2).permute(0, 2, 1)   # reshape to (B, W, 512)\n",
        "        conv_proj = self.proj(conv)               # project to (B, W, nh)\n",
        "\n",
        "        x_norm = self.norm1(conv_proj)            # layer normalization\n",
        "\n",
        "        seq_len = conv_proj.size(1)\n",
        "        # Create causal mask to prevent attention to future positions\n",
        "        mask = torch.triu(torch.ones(seq_len, seq_len), diagonal=1).bool().to(x.device)\n",
        "\n",
        "        attn_out, _ = self.attn(x_norm, x_norm, x_norm, attn_mask=mask)  # self-attention output (B, W, nh)\n",
        "        attn_out = self.dropout(attn_out)\n",
        "\n",
        "        x_res = conv_proj + attn_out             # add residual connection\n",
        "        out = self.embedding(x_res)              # final class logits (B, W, nclass)\n",
        "        return out.permute(1, 0, 2)              # reshape to (W, B, nclass) for CTC decoding"
      ]
    },
    {
      "cell_type": "markdown",
      "metadata": {
        "id": "4QDT1mQ7AFZV"
      },
      "source": [
        "# Training"
      ]
    },
    {
      "cell_type": "code",
      "execution_count": null,
      "metadata": {
        "id": "dPe-Gtax_lel",
        "colab": {
          "base_uri": "https://localhost:8080/",
          "height": 289
        },
        "outputId": "f9f0a9ec-41ac-442c-8a77-53cadbcef6e2"
      },
      "outputs": [
        {
          "output_type": "display_data",
          "data": {
            "text/plain": [
              "<IPython.core.display.Javascript object>"
            ],
            "application/javascript": [
              "\n",
              "        window._wandbApiKey = new Promise((resolve, reject) => {\n",
              "            function loadScript(url) {\n",
              "            return new Promise(function(resolve, reject) {\n",
              "                let newScript = document.createElement(\"script\");\n",
              "                newScript.onerror = reject;\n",
              "                newScript.onload = resolve;\n",
              "                document.body.appendChild(newScript);\n",
              "                newScript.src = url;\n",
              "            });\n",
              "            }\n",
              "            loadScript(\"https://cdn.jsdelivr.net/npm/postmate/build/postmate.min.js\").then(() => {\n",
              "            const iframe = document.createElement('iframe')\n",
              "            iframe.style.cssText = \"width:0;height:0;border:none\"\n",
              "            document.body.appendChild(iframe)\n",
              "            const handshake = new Postmate({\n",
              "                container: iframe,\n",
              "                url: 'https://wandb.ai/authorize'\n",
              "            });\n",
              "            const timeout = setTimeout(() => reject(\"Couldn't auto authenticate\"), 5000)\n",
              "            handshake.then(function(child) {\n",
              "                child.on('authorize', data => {\n",
              "                    clearTimeout(timeout)\n",
              "                    resolve(data)\n",
              "                });\n",
              "            });\n",
              "            })\n",
              "        });\n",
              "    "
            ]
          },
          "metadata": {}
        },
        {
          "output_type": "stream",
          "name": "stderr",
          "text": [
            "\u001b[34m\u001b[1mwandb\u001b[0m: Logging into wandb.ai. (Learn how to deploy a W&B server locally: https://wandb.me/wandb-server)\n",
            "\u001b[34m\u001b[1mwandb\u001b[0m: You can find your API key in your browser here: https://wandb.ai/authorize?ref=models\n",
            "wandb: Paste an API key from your profile and hit enter:"
          ]
        },
        {
          "name": "stdout",
          "output_type": "stream",
          "text": [
            " ··········\n"
          ]
        },
        {
          "output_type": "stream",
          "name": "stderr",
          "text": [
            "\u001b[34m\u001b[1mwandb\u001b[0m: \u001b[33mWARNING\u001b[0m If you're specifying your api key in code, ensure this code is not shared publicly.\n",
            "\u001b[34m\u001b[1mwandb\u001b[0m: \u001b[33mWARNING\u001b[0m Consider setting the WANDB_API_KEY environment variable, or running `wandb login` from the command line.\n",
            "\u001b[34m\u001b[1mwandb\u001b[0m: No netrc file found, creating one.\n",
            "\u001b[34m\u001b[1mwandb\u001b[0m: Appending key for api.wandb.ai to your netrc file: /root/.netrc\n",
            "\u001b[34m\u001b[1mwandb\u001b[0m: Currently logged in as: \u001b[33madriabuil\u001b[0m (\u001b[33madriabuil-upc\u001b[0m) to \u001b[32mhttps://api.wandb.ai\u001b[0m. Use \u001b[1m`wandb login --relogin`\u001b[0m to force relogin\n"
          ]
        },
        {
          "output_type": "display_data",
          "data": {
            "text/plain": [
              "<IPython.core.display.HTML object>"
            ],
            "text/html": [
              "Tracking run with wandb version 0.21.0"
            ]
          },
          "metadata": {}
        },
        {
          "output_type": "display_data",
          "data": {
            "text/plain": [
              "<IPython.core.display.HTML object>"
            ],
            "text/html": [
              "Run data is saved locally in <code>/content/wandb/run-20250710_145013-ua84zwtj</code>"
            ]
          },
          "metadata": {}
        },
        {
          "output_type": "display_data",
          "data": {
            "text/plain": [
              "<IPython.core.display.HTML object>"
            ],
            "text/html": [
              "Syncing run <strong><a href='https://wandb.ai/adriabuil-upc/OCR/runs/ua84zwtj' target=\"_blank\">Image2Seq: CRNN-Attention-25000_imgs</a></strong> to <a href='https://wandb.ai/adriabuil-upc/OCR' target=\"_blank\">Weights & Biases</a> (<a href='https://wandb.me/developer-guide' target=\"_blank\">docs</a>)<br>"
            ]
          },
          "metadata": {}
        },
        {
          "output_type": "display_data",
          "data": {
            "text/plain": [
              "<IPython.core.display.HTML object>"
            ],
            "text/html": [
              " View project at <a href='https://wandb.ai/adriabuil-upc/OCR' target=\"_blank\">https://wandb.ai/adriabuil-upc/OCR</a>"
            ]
          },
          "metadata": {}
        },
        {
          "output_type": "display_data",
          "data": {
            "text/plain": [
              "<IPython.core.display.HTML object>"
            ],
            "text/html": [
              " View run at <a href='https://wandb.ai/adriabuil-upc/OCR/runs/ua84zwtj' target=\"_blank\">https://wandb.ai/adriabuil-upc/OCR/runs/ua84zwtj</a>"
            ]
          },
          "metadata": {}
        },
        {
          "output_type": "execute_result",
          "data": {
            "text/html": [
              "<button onClick=\"this.nextSibling.style.display='block';this.style.display='none';\">Display W&B run</button><iframe src='https://wandb.ai/adriabuil-upc/OCR/runs/ua84zwtj?jupyter=true' style='border:none;width:100%;height:420px;display:none;'></iframe>"
            ],
            "text/plain": [
              "<wandb.sdk.wandb_run.Run at 0x79fa1e598a90>"
            ]
          },
          "metadata": {},
          "execution_count": 14
        }
      ],
      "source": [
        "# Define model architecture name and WandB experiment name based on selected model\n",
        "if model_selected == 1:\n",
        "    architecture = \"CRNN (CNN + BiLSTM + CTC)\"\n",
        "    wandb_name = f\"Image2Seq: CRNN-BiLSTM-{num_images}_imgs\"\n",
        "    artifact_name = f\"best_model_CRNN_BiLSTM_{num_images}_imgs.pth\"\n",
        "else:\n",
        "    architecture = \"CRNN (CNN + Attention + CTC)\"\n",
        "    wandb_name = f\"Image2Seq: CRNN-Attention-{num_images}_imgs\"\n",
        "    artifact_name = f\"best_model_CRNN_Attention_{num_images}_imgs.pth\"\n",
        "\n",
        "# Configuration dictionary for WandB\n",
        "config = {\n",
        "    \"epochs\": 15,\n",
        "    \"batch_size\": 32,\n",
        "    \"learning_rate\": 0.001,\n",
        "    \"architecture\": architecture\n",
        "}\n",
        "\n",
        "# Initialize WandB logging\n",
        "wandb.init(project=\"OCR\", name=wandb_name, config=config)"
      ]
    },
    {
      "cell_type": "markdown",
      "metadata": {
        "id": "tqAPdpOUFvgN"
      },
      "source": [
        "## Loss function and optimizer"
      ]
    },
    {
      "cell_type": "code",
      "execution_count": null,
      "metadata": {
        "id": "8-iS1OkuFx_8"
      },
      "outputs": [],
      "source": [
        "# Instantiate model based on selected architecture\n",
        "if model_selected == 1:\n",
        "    model = CRNN_BiLSTM(\n",
        "        img_h=32,\n",
        "        nc=1,  # number of input channels (1 for grayscale)\n",
        "        nclass=vocab_size + 1,  # +1 to include blank token\n",
        "        nh=256,\n",
        "        num_rnn_layers=2\n",
        "    ).to(device)\n",
        "else:\n",
        "    model = CRNN_Attention(\n",
        "        img_h=32,\n",
        "        nc=1,\n",
        "        nclass=vocab_size + 1,\n",
        "        nh=256,\n",
        "        num_heads=1\n",
        "    ).to(device)\n",
        "\n",
        "# Define CTC Loss function for sequence alignment without explicit segmentation\n",
        "criterion = nn.CTCLoss(blank=blank_token, zero_infinity=True)\n",
        "\n",
        "# Define optimizer for model training\n",
        "optimizer = torch.optim.Adam(model.parameters(), lr=0.001)\n",
        "\n",
        "# Define learning rate scheduler to reduce LR every 5 epochs by factor 0.5 for stable convergence\n",
        "scheduler = CosineAnnealingLR(optimizer, T_max=config[\"epochs\"])"
      ]
    },
    {
      "cell_type": "markdown",
      "metadata": {
        "id": "77H1TEhiFzPQ"
      },
      "source": [
        "## Train one epoch"
      ]
    },
    {
      "cell_type": "code",
      "execution_count": null,
      "metadata": {
        "id": "sWFN1ttSF1BW"
      },
      "outputs": [],
      "source": [
        "def train_one_epoch(model, dataloader, optimizer, criterion):\n",
        "    \"\"\"\n",
        "    Trains the model for one epoch on the provided dataloader.\n",
        "\n",
        "    Args:\n",
        "        model: PyTorch model to train\n",
        "        dataloader: DataLoader providing (images, labels) batches\n",
        "        optimizer: optimizer used for weight updates\n",
        "        criterion: loss function (CTC Loss)\n",
        "\n",
        "    Returns:\n",
        "        avg_loss: average training loss over the epoch\n",
        "    \"\"\"\n",
        "    model.train()\n",
        "    epoch_loss = 0\n",
        "\n",
        "    # Wrap dataloader with tqdm to show progress bar during training\n",
        "    for imgs, labels in tqdm(dataloader, desc=\"Training\", leave=False):\n",
        "        imgs = imgs.to(device)\n",
        "        labels = labels.to(device)\n",
        "\n",
        "        preds = model(imgs)  # output logits [T, B, C]\n",
        "        preds_log_softmax = preds.log_softmax(2)  # apply log-softmax over class dimension for CTC Loss\n",
        "\n",
        "        # Define input lengths (all equal to T since CNN output has fixed temporal length)\n",
        "        input_lengths = torch.full(\n",
        "            (preds.size(1),), preds.size(0), dtype=torch.long\n",
        "        ).to(device)\n",
        "\n",
        "        # Define target lengths by counting non-padding tokens in each label\n",
        "        target_lengths = torch.tensor(\n",
        "            [len(l[l != vocab_size]) for l in labels],\n",
        "            dtype=torch.long\n",
        "        ).to(device)\n",
        "\n",
        "        # Compute CTC loss between predicted sequence logits and ground truth labels\n",
        "        loss = criterion(preds_log_softmax, labels, input_lengths, target_lengths)\n",
        "\n",
        "        optimizer.zero_grad()\n",
        "        loss.backward()\n",
        "        optimizer.step()\n",
        "\n",
        "        epoch_loss += loss.item()\n",
        "\n",
        "    avg_loss = epoch_loss / len(dataloader)\n",
        "\n",
        "    # Log average training loss to wandb for monitoring\n",
        "    wandb.log({\"Train loss\": avg_loss})\n",
        "\n",
        "    return avg_loss"
      ]
    },
    {
      "cell_type": "markdown",
      "metadata": {
        "id": "c-MUmhKkFr_1"
      },
      "source": [
        "## Sanity-check before training"
      ]
    },
    {
      "cell_type": "code",
      "execution_count": null,
      "metadata": {
        "id": "8we5tivEFDX_",
        "colab": {
          "base_uri": "https://localhost:8080/",
          "height": 513
        },
        "outputId": "213a71f5-a361-48d3-f06b-6ac0729fe0fc"
      },
      "outputs": [
        {
          "output_type": "stream",
          "name": "stdout",
          "text": [
            "== Dataset Samples ==\n",
            "Sample 0: image shape=torch.Size([1, 32, 128]), label indices=[12, 24, 30, 23, 29, 14, 27, 29, 14, 23, 24, 27, 62, 62, 62, 62, 62, 62, 62, 62, 62, 62, 62]\n",
            "Decoded label: COUNTERTENOR\n"
          ]
        },
        {
          "output_type": "display_data",
          "data": {
            "text/plain": [
              "<Figure size 640x480 with 1 Axes>"
            ],
            "image/png": "[encoded data removed]"
          },
          "metadata": {}
        },
        {
          "output_type": "stream",
          "name": "stdout",
          "text": [
            "Sample 1: image shape=torch.Size([1, 32, 128]), label indices=[25, 53, 44, 48, 36, 38, 60, 62, 62, 62, 62, 62, 62, 62, 62, 62, 62, 62, 62, 62, 62, 62, 62]\n",
            "Decoded label: Primacy\n"
          ]
        },
        {
          "output_type": "display_data",
          "data": {
            "text/plain": [
              "<Figure size 640x480 with 1 Axes>"
            ],
            "image/png": "[encoded data removed]"
          },
          "metadata": {}
        },
        {
          "output_type": "stream",
          "name": "stdout",
          "text": [
            "\n",
            "== Dataloader Batch Validation ==\n",
            "Labels max value in batch: 62\n",
            "Allowed max index (blank token): 62\n"
          ]
        }
      ],
      "source": [
        "def validate_dataset_and_loader(dataset, dataloader, vocab, num_samples):\n",
        "    \"\"\"\n",
        "    Performs two essential sanity checks before training:\n",
        "\n",
        "    1. Displays a few samples from the dataset with image shapes, encoded labels, and decoded text\n",
        "       to verify correct loading, encoding, and image preprocessing.\n",
        "    2. Validates a batch from the DataLoader to ensure that all label indices are within\n",
        "       the valid CTC range (including the blank token).\n",
        "\n",
        "    Args:\n",
        "        dataset: your dataset object supporting indexing\n",
        "        dataloader: your DataLoader object\n",
        "        vocab: list of characters representing your vocabulary (excluding blank token)\n",
        "        num_samples: number of samples to visualize from the dataset\n",
        "    \"\"\"\n",
        "\n",
        "    print(\"== Dataset Samples ==\")\n",
        "    for i in range(num_samples):\n",
        "        img, encoded_label = dataset[i]\n",
        "        print(f\"Sample {i}: image shape={img.shape}, label indices={encoded_label}\")\n",
        "\n",
        "        # Decode label indices into string, skipping blank padding\n",
        "        decoded_label = ''.join([vocab[idx] for idx in encoded_label if idx != blank_token])\n",
        "        print(f\"Decoded label: {decoded_label}\")\n",
        "\n",
        "        plt.imshow(img.squeeze().numpy(), cmap='gray')\n",
        "        plt.title(f\"Label: {decoded_label}\")\n",
        "        plt.axis('off')\n",
        "        plt.show()\n",
        "\n",
        "    print(\"\\n== Dataloader Batch Validation ==\")\n",
        "    for imgs, labels in dataloader:\n",
        "        max_label = labels.max().item()\n",
        "        print(f\"Labels max value in batch: {max_label}\")\n",
        "        print(f\"Allowed max index (blank token): {blank_token}\")\n",
        "\n",
        "        # Validate that no label index exceeds blank token index\n",
        "        assert max_label <= blank_token, \\\n",
        "            f\"Label index {max_label} out of range! Must be <= {blank_token} (vocab size: {vocab_size})\"\n",
        "        break  # only check first batch to save time\n",
        "\n",
        "# Example call before training to ensure data integrity\n",
        "validate_dataset_and_loader(dataset, train_loader, vocab, num_samples=2)"
      ]
    },
    {
      "cell_type": "markdown",
      "metadata": {
        "id": "GY4kmC2CQwTD"
      },
      "source": [
        "## Training Loop"
      ]
    },
    {
      "cell_type": "code",
      "execution_count": null,
      "metadata": {
        "colab": {
          "base_uri": "https://localhost:8080/"
        },
        "id": "LyOePsJMRNh3",
        "outputId": "34888335-477a-4bd2-8707-4d03d97dff05"
      },
      "outputs": [
        {
          "output_type": "stream",
          "name": "stdout",
          "text": [
            "\n",
            "Epoch 1/15\n"
          ]
        },
        {
          "output_type": "stream",
          "name": "stderr",
          "text": [
            "Training:   2%|▏         | 9/547 [01:13<1:09:21,  7.73s/it]"
          ]
        }
      ],
      "source": [
        "best_loss = float('inf')  # track best validation loss for model checkpointing\n",
        "\n",
        "# Training loop over epochs\n",
        "for epoch in range(config[\"epochs\"]):\n",
        "    print(f\"\\nEpoch {epoch + 1}/{config['epochs']}\")\n",
        "\n",
        "    # === Training ===\n",
        "    train_loss = train_one_epoch(model, train_loader, optimizer, criterion)\n",
        "    print(f\"Train Loss: {train_loss:.4f}\")\n",
        "\n",
        "    # === Validation ===\n",
        "    model.eval()\n",
        "    val_loss = 0\n",
        "    all_preds, all_gts = [], []  # store all predictions and GTs for metric computation\n",
        "\n",
        "    with torch.no_grad():\n",
        "        for imgs, labels in val_loader:\n",
        "            imgs = imgs.to(device)\n",
        "            labels = labels.to(device)\n",
        "\n",
        "            preds = model(imgs)  # model forward pass\n",
        "            preds_log_softmax = preds.log_softmax(2)\n",
        "\n",
        "            # Define input lengths (all equal to T)\n",
        "            input_lengths = torch.full(\n",
        "                (preds.size(1),), preds.size(0), dtype=torch.long\n",
        "            ).to(device)\n",
        "\n",
        "            # Define target lengths (exclude padding tokens)\n",
        "            target_lengths = torch.tensor(\n",
        "                [len(l[l != blank_token]) for l in labels],\n",
        "                dtype=torch.long\n",
        "            ).to(device)\n",
        "\n",
        "            # Compute CTC loss\n",
        "            loss = criterion(preds_log_softmax, labels, input_lengths, target_lengths)\n",
        "            val_loss += loss.item()\n",
        "\n",
        "            # Decode predictions and ground truths for metrics\n",
        "            batch_preds = ctc_decoder(preds, vocab)\n",
        "            batch_gts = [decode_label(lbl, vocab) for lbl in labels]\n",
        "\n",
        "            all_preds += batch_preds\n",
        "            all_gts += batch_gts\n",
        "\n",
        "    val_loss /= len(val_loader)\n",
        "    print(f\"Val Loss: {val_loss:.4f}\")\n",
        "\n",
        "    # === Character Error Rate (CER) ===\n",
        "    cer = character_error_rate(all_preds, all_gts)\n",
        "    print(f\"CER: {cer:.4f}\")\n",
        "\n",
        "    # === Word Accuracy@k ===\n",
        "    acc_k_dict = {}\n",
        "    for k in [0, 1, 2]:\n",
        "        acc_k = word_accuracy_at_k(all_preds, all_gts, k)\n",
        "        acc_k_dict[f\"Word Accuracy @{k}\"] = acc_k\n",
        "        print(f\"Word Accuracy @{k}: {acc_k:.4f}\")\n",
        "\n",
        "    # === Learning Rate Logging ===\n",
        "    lr = optimizer.param_groups[0]['lr']\n",
        "    print(f\"Learning Rate: {lr:.6f}\")\n",
        "\n",
        "    # === Log all metrics to WandB ===\n",
        "    wandb.log({\n",
        "        \"epoch\": epoch + 1,\n",
        "        \"Train Loss\": train_loss,\n",
        "        \"Val Loss\": val_loss,\n",
        "        \"CER\": cer,\n",
        "        **acc_k_dict,\n",
        "        \"LR\": lr,\n",
        "    })\n",
        "\n",
        "    # === Step the learning rate scheduler ===\n",
        "    scheduler.step()\n",
        "\n",
        "    # === Save best model checkpoint ===\n",
        "    if val_loss < best_loss:\n",
        "        best_loss = val_loss\n",
        "        torch.save(model.state_dict(), artifact_name)\n",
        "\n",
        "        # Save best model as a wandb artifact for experiment tracking\n",
        "        artifact = wandb.Artifact(artifact_name, type='model')\n",
        "        artifact.add_file(artifact_name)\n",
        "        wandb.log_artifact(artifact)\n",
        "\n"
      ]
    },
    {
      "cell_type": "markdown",
      "metadata": {
        "id": "uJS8XMWeF4NO"
      },
      "source": [
        "# Inference & Evaluation"
      ]
    },
    {
      "cell_type": "code",
      "execution_count": null,
      "metadata": {
        "id": "u-yLsXXt_82U"
      },
      "outputs": [],
      "source": [
        "visualize_predictions(model, dataset, dataset.get_vocab(), num_samples=10)"
      ]
    },
    {
      "cell_type": "markdown",
      "metadata": {
        "id": "wjWzqRu27CMz"
      },
      "source": [
        "## Model Parameters"
      ]
    },
    {
      "cell_type": "code",
      "execution_count": null,
      "metadata": {
        "id": "FY665zHZABrB"
      },
      "outputs": [],
      "source": [
        "num_params = count_parameters(model)\n",
        "print(f\"Number of model parameters: {num_params:,}\")\n",
        "wandb.log({\"num_params\": num_params})"
      ]
    },
    {
      "cell_type": "markdown",
      "metadata": {
        "id": "K3skIYgaAMZe"
      },
      "source": [
        "## Final Evaluation"
      ]
    },
    {
      "cell_type": "code",
      "execution_count": null,
      "metadata": {
        "id": "iq2auCX27Pdr"
      },
      "outputs": [],
      "source": [
        "def final_precision_recall_auc(model, val_loader, char_list):\n",
        "    \"\"\"\n",
        "    Computes Precision-Recall curve and AUC, logs results to wandb,\n",
        "    and saves the PR plot as an image artifact.\n",
        "    \"\"\"\n",
        "    model.eval()\n",
        "    y_true, y_scores = [], []\n",
        "\n",
        "    with torch.no_grad():\n",
        "        for images, labels in val_loader:\n",
        "            images = images.to(device)\n",
        "            logits = model(images)\n",
        "            probs = torch.softmax(logits, dim=2)\n",
        "\n",
        "            preds = ctc_decoder(logits, char_list)\n",
        "            gts = [decode_label(lbl, char_list) for lbl in labels]\n",
        "\n",
        "            pred_ids = torch.argmax(logits, dim=2)\n",
        "            pred_probs = probs.gather(2, pred_ids.unsqueeze(2)).squeeze(2)\n",
        "\n",
        "            pred_probs = pred_probs.permute(1,0)\n",
        "            mean_confidences = pred_probs.mean(dim=1).cpu().numpy()\n",
        "\n",
        "            y_true.extend([int(p==g) for p,g in zip(preds,gts)])\n",
        "            y_scores.extend(mean_confidences)\n",
        "\n",
        "    precision, recall, thresholds = precision_recall_curve(y_true, y_scores)\n",
        "    auc_score = auc(recall, precision)\n",
        "\n",
        "    # Plot and save the Precision-Recall curve\n",
        "    plt.figure(figsize=(6,5))\n",
        "    plt.plot(recall, precision, marker='.', label=f'AUC={auc_score:.2f}')\n",
        "    plt.xlabel('Recall')\n",
        "    plt.ylabel('Precision')\n",
        "    plt.title('Precision-Recall Curve')\n",
        "    plt.legend()\n",
        "    plt.grid(True)\n",
        "\n",
        "    # Save plot to temporary file and log as wandb artifact (image)\n",
        "    with tempfile.NamedTemporaryFile(suffix=\".png\", delete=False) as tmpfile:\n",
        "        plt.savefig(tmpfile.name)\n",
        "        wandb.log({\"Precision-Recall Curve\": wandb.Image(tmpfile.name)})\n",
        "    plt.close()\n",
        "\n",
        "    # Log AUC value to wandb as a time-series metric for line chart display\n",
        "    wandb.log({\n",
        "        \"Precision-Recall AUC\": auc_score\n",
        "    })\n",
        "\n",
        "    print(f\"Final Precision-Recall AUC: {auc_score:.4f}\")\n",
        "    return auc_score\n",
        "\n",
        "\n",
        "\n",
        "def final_roc_auc(model, val_loader, char_list):\n",
        "    \"\"\"\n",
        "    Computes ROC curve and AUC, logs results to wandb,\n",
        "    and saves the ROC plot as an image artifact.\n",
        "    \"\"\"\n",
        "    model.eval()\n",
        "    y_true, y_scores = [], []\n",
        "\n",
        "    with torch.no_grad():\n",
        "        for images, labels in val_loader:\n",
        "            images = images.to(device)\n",
        "            logits = model(images)\n",
        "            probs = torch.softmax(logits, dim=2)\n",
        "\n",
        "            preds = ctc_decoder(logits, char_list)\n",
        "            gts = [decode_label(lbl, char_list) for lbl in labels]\n",
        "\n",
        "            pred_ids = torch.argmax(logits, dim=2)\n",
        "            pred_probs = probs.gather(2, pred_ids.unsqueeze(2)).squeeze(2)\n",
        "\n",
        "            pred_probs = pred_probs.permute(1,0)\n",
        "            mean_confidences = pred_probs.mean(dim=1).cpu().numpy()\n",
        "\n",
        "            y_true.extend([int(p==g) for p,g in zip(preds,gts)])\n",
        "            y_scores.extend(mean_confidences)\n",
        "\n",
        "    # Compute ROC curve\n",
        "    fpr, tpr, thresholds = roc_curve(y_true, y_scores)\n",
        "    roc_auc = roc_auc_score(y_true, y_scores)\n",
        "\n",
        "    # Plot and save the ROC curve\n",
        "    plt.figure(figsize=(6,5))\n",
        "    plt.plot(fpr, tpr, marker='.', label=f'AUC={roc_auc:.2f}')\n",
        "    plt.xlabel('False Positive Rate')\n",
        "    plt.ylabel('True Positive Rate')\n",
        "    plt.title('ROC Curve')\n",
        "    plt.legend()\n",
        "    plt.grid(True)\n",
        "\n",
        "    # Save plot to temporary file and log as wandb artifact (image)\n",
        "    with tempfile.NamedTemporaryFile(suffix=\".png\", delete=False) as tmpfile:\n",
        "        plt.savefig(tmpfile.name)\n",
        "        wandb.log({\"ROC Curve\": wandb.Image(tmpfile.name)})\n",
        "    plt.close()\n",
        "\n",
        "    # Log AUC value to wandb\n",
        "    wandb.log({\n",
        "        \"ROC AUC\": roc_auc\n",
        "    })\n",
        "\n",
        "    print(f\"Final ROC AUC: {roc_auc:.4f}\")\n",
        "    return roc_auc"
      ]
    },
    {
      "cell_type": "code",
      "execution_count": null,
      "metadata": {
        "id": "iagEGpIuARGV"
      },
      "outputs": [],
      "source": [
        "final_precision_recall_auc(model, val_loader, vocab)"
      ]
    },
    {
      "cell_type": "code",
      "execution_count": null,
      "metadata": {
        "id": "HwU9W2ESARVd"
      },
      "outputs": [],
      "source": [
        "final_roc_auc(model, val_loader, vocab)"
      ]
    }
  ],
  "metadata": {
    "accelerator": "GPU",
    "colab": {
      "gpuType": "T4",
      "provenance": []
    },
    "kernelspec": {
      "display_name": "Python 3",
      "name": "python3"
    },
    "language_info": {
      "codemirror_mode": {
        "name": "ipython",
        "version": 3
      },
      "file_extension": ".py",
      "mimetype": "text/x-python",
      "name": "python",
      "nbconvert_exporter": "python",
      "pygments_lexer": "ipython3",
      "version": "3.6.6"
    }
  },
  "nbformat": 4,
  "nbformat_minor": 0
}